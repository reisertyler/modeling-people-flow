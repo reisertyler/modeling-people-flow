{
 "cells": [
  {
   "cell_type": "markdown",
   "metadata": {},
   "source": [
    "# Data Processing Procedure\n",
    "\n",
    "This notebook shows how to use the provided Python code that defines a DataProcessor class designed to process WiFi Information from the campus of the University of Colorado Boulder. This class deals with multiple Wi-Fi datasets, each corresponding to a different building on the campus. The input data are stored in CSV files, and the class processes these files for future extraction of useful insights.\n",
    "\n",
    "Date Created: July 22, 2023  \n",
    "By Tyler Reiser\n",
    "\n",
    "---"
   ]
  },
  {
   "cell_type": "markdown",
   "metadata": {},
   "source": [
    "## Data Overview: Campus WiFi\n",
    "\n",
    "### Input\n",
    "\n",
    "The Wifi Information for each building on the University of Colorado Boulder campus stored as `CSV` files.\n",
    "\n",
    "### Data Format\n",
    "\n",
    "The Wifi Information for each building on campus from \\[2019-08-16 08:10:53\\] to \\[2021-05-25 06:57:08\\]. The data is segmented into three folders: “UCB Wireless”, “UCB Guest”,  and “Eduroam”; each Folder contains data sets from each network . Every file is a CSV file named in the following format: \\[Building Code\\]_Extracted_Data_\\[Start Date\\]. \n",
    "\n",
    "Each `.csv` file contains the date and time in column zero and the active connected device count in column one. The devices recorded are connected to access points in building rooms, where most rooms have one access point and some have more than one. \n",
    "\n",
    "An example of file data is given below from the UCB Wireless network in Aden Hall. This first row of this example dataset would be read as “In Aden Hall, on August 16, 2019, at 8:10:53, there were eight devices connected to UCB Wireless”.\n",
    "\n",
    "### EXAMPLE: ADEN HALL\n",
    "\n",
    "| datetime |   devicecount  | \n",
    "| -------- |    --------    |\n",
    "| 2019-08-16 08:10:53 | 8.0 |\n",
    "| 2019-08-16 08:18:58 | 4.0 |\n",
    "| 2019-08-16 08:28:17 | 5.0 |\n",
    "| 2019-08-16 08:32:10 | 9.0 |\n",
    "| 2019-08-16 08:37:38 | 6.0 |\n",
    "| 2019-08-16 08:42:51 | 9.0 |\n",
    "| 2019-08-16 08:47:59 | 5.0 |\n",
    "\n",
    "### Setting Directory Paths\n",
    "\n",
    "Store `.csv` files at `BASE_DIR/data/input/WiFiData`.\n",
    "\n",
    "### Output\n",
    "\n",
    "The result of the `process_all_buildings` method is a list of buildings to process (either all buildings or a specific building if `building_id` is provided), and uses the joblib's `Parallel` function to process the data for these buildings in parallel, making use of multiple CPU cores if available. The number of cores used for parallel processing is determined by the `cpu_cores` parameter passed during the initialization of the `DataProcessor` object. The method returns a dictionary where the keys are building names and the values are the processed DataFrames for each building. This design enhances performance, especially when processing large amounts of data across multiple files.\n",
    "\n",
    "---"
   ]
  },
  {
   "cell_type": "markdown",
   "metadata": {},
   "source": [
    "## Classes in this Module\n",
    "\n",
    "The `DataProcessor` class focuses on data processing, while the `SpeedTest` class provides a reusable way to measure execution time. This is an example of object-oriented design.\n",
    "\n",
    "\n",
    "### Overview\n",
    "\n",
    "The `DataProcessor` class is responsible for processing time-series data from CSV files. It reads the data, interpolates missing values, and processes data for all buildings in parallel. The class is designed to be flexible, allowing the user to specify parameters like the data directory, date range, building ID, CPU cores, and sampling frequency.\n",
    "\n",
    "The `SpeedTest` class is a utility class that measures the execution time of a function or method. It's implemented as a callable class, which means it can be used as a decorator to easily add timing functionality to any function or method. In this case, it's used to measure the time taken by the process_all_buildings method of the DataProcessor class.\n",
    "\n",
    "### The `DataProcessor `Class\n",
    "\n",
    "1. Initialization Method (`__init__`):\n",
    "\n",
    "The `DataProcessor` class is initialized with parameters which include the directory where the CSV files are stored, the start and end dates for the data to be considered, a specific building_id if the user would like to process data for a particular building only, the number of CPU cores to utilize for the computation, the frequency at which to sample data, and a boolean to decide whether to record the total execution time.\n",
    "\n",
    "The `DataProcessor` class used the following methods internally:\n",
    "\n",
    "2. Reading Data Method (`read_time_series_data`):\n",
    "\n",
    "The `read_time_series_data` method is a static method, meaning it does not depend on the state of the DataProcessor instance. This method reads data from a CSV file and returns a DataFrame. It also converts the \"datetime\" column to actual datetime objects for easy handling in subsequent methods.\n",
    "\n",
    "3. Interpolating Data Method (`interpolate_time_series_data`):\n",
    "\n",
    "The `interpolate_time_series_data` method implements interpolation on the provided data. This is useful to fill gaps in the dataset where data points might be missing. With the help of the pandas.date_range function, a date range object is created from the minimum date to the maximum date with a frequency set by the `sample_freq` attribute. The method then interpolates the missing data points and returns an updated DataFrame. The method is shown below:\n",
    "\n",
    "4. Building Identifiers Method (`_get_building_identifiers` and `_get_buildings`):\n",
    "\n",
    "The `_get_building_identifiers` is a static method that retrieves the building identifiers from a given filename. It splits the filename, which has the structure `buildingID_Extracted_Data_date.csv`, into a list using \"_\" as the delimiter and then returns the building id.\n",
    "\n",
    "5. Data Processing Method (`_process_building_data` and `process_all_buildings`):\n",
    "\n",
    "The `_process_building_data` method processes the data for a single building. It uses the `read_time_series_data` method to read the dataset and `interpolate_time_series_data` to interpolate missing data.\n",
    "\n",
    "The `process_all_buildings` method applies the above steps to all buildings. It first gets the list of buildings to process, either a single one if `building_id` is provided, or all buildings in the directory otherwise. Then, using joblib's Parallel and delayed functions, it processes data for all these buildings in parallel, making efficient use of multiple CPU cores if available. It returns a dictionary where keys are building names and values are DataFrames containing corresponding processed data.\n",
    "\n",
    "If `record_time` is set True, it records and returns execution time for data processing. This is used for performance testing.\n",
    "\n",
    "### The `SpeedTest` Class\n",
    "\n",
    "This is a wrapper for the DataProcessor class and is used to measure the execution time of any function or method. In this package, it is only being used to record the time taken to process the data.\n",
    "\n",
    "---"
   ]
  },
  {
   "cell_type": "markdown",
   "metadata": {},
   "source": [
    "\n",
    "1. Import the class"
   ]
  },
  {
   "cell_type": "code",
   "execution_count": 1,
   "metadata": {},
   "outputs": [],
   "source": [
    "from src.python import DataProcessor as dp"
   ]
  },
  {
   "cell_type": "markdown",
   "metadata": {},
   "source": [
    "2. Create an instance of the `DataProcessor` class using the the `process_all_buildings` method"
   ]
  },
  {
   "cell_type": "code",
   "execution_count": 2,
   "metadata": {},
   "outputs": [],
   "source": [
    "data_processor  = dp.DataProcessor()\n",
    "data            = data_processor.process_all_buildings()"
   ]
  },
  {
   "cell_type": "markdown",
   "metadata": {},
   "source": [
    "3. Call both columns of data for the Aerospace building like this:"
   ]
  },
  {
   "cell_type": "code",
   "execution_count": 3,
   "metadata": {},
   "outputs": [
    {
     "data": {
      "text/html": [
       "<div>\n",
       "<style scoped>\n",
       "    .dataframe tbody tr th:only-of-type {\n",
       "        vertical-align: middle;\n",
       "    }\n",
       "\n",
       "    .dataframe tbody tr th {\n",
       "        vertical-align: top;\n",
       "    }\n",
       "\n",
       "    .dataframe thead th {\n",
       "        text-align: right;\n",
       "    }\n",
       "</style>\n",
       "<table border=\"1\" class=\"dataframe\">\n",
       "  <thead>\n",
       "    <tr style=\"text-align: right;\">\n",
       "      <th></th>\n",
       "      <th>datetime</th>\n",
       "      <th>devicecount</th>\n",
       "    </tr>\n",
       "  </thead>\n",
       "  <tbody>\n",
       "    <tr>\n",
       "      <th>0</th>\n",
       "      <td>2019-08-16 08:10:53</td>\n",
       "      <td>92.000000</td>\n",
       "    </tr>\n",
       "    <tr>\n",
       "      <th>1</th>\n",
       "      <td>2019-08-16 08:12:53</td>\n",
       "      <td>93.237113</td>\n",
       "    </tr>\n",
       "    <tr>\n",
       "      <th>2</th>\n",
       "      <td>2019-08-16 08:14:53</td>\n",
       "      <td>94.474227</td>\n",
       "    </tr>\n",
       "    <tr>\n",
       "      <th>3</th>\n",
       "      <td>2019-08-16 08:16:53</td>\n",
       "      <td>95.711340</td>\n",
       "    </tr>\n",
       "    <tr>\n",
       "      <th>4</th>\n",
       "      <td>2019-08-16 08:18:53</td>\n",
       "      <td>96.948454</td>\n",
       "    </tr>\n",
       "  </tbody>\n",
       "</table>\n",
       "</div>"
      ],
      "text/plain": [
       "             datetime  devicecount\n",
       "0 2019-08-16 08:10:53    92.000000\n",
       "1 2019-08-16 08:12:53    93.237113\n",
       "2 2019-08-16 08:14:53    94.474227\n",
       "3 2019-08-16 08:16:53    95.711340\n",
       "4 2019-08-16 08:18:53    96.948454"
      ]
     },
     "execution_count": 3,
     "metadata": {},
     "output_type": "execute_result"
    }
   ],
   "source": [
    "data[   'AERO'  ].head(5)"
   ]
  },
  {
   "cell_type": "code",
   "execution_count": 4,
   "metadata": {},
   "outputs": [
    {
     "data": {
      "text/plain": [
       "0    37.0\n",
       "1    37.0\n",
       "2    37.0\n",
       "3    37.0\n",
       "4    37.0\n",
       "Name: devicecount, dtype: float64"
      ]
     },
     "execution_count": 4,
     "metadata": {},
     "output_type": "execute_result"
    }
   ],
   "source": [
    "data[   'ATLS'  ][  'devicecount'   ].head(5)"
   ]
  },
  {
   "cell_type": "markdown",
   "metadata": {},
   "source": [
    "4. Call the first column of data for an individual building:"
   ]
  },
  {
   "cell_type": "markdown",
   "metadata": {},
   "source": [
    "### Optional Parameters\n",
    "\n",
    "The simplest use of the `DataProcessor` class is to pass no values, which is shown above. The following section demonstrates options for improving performance of the processing procedure and initialization of several parameters.\n",
    "\n",
    "---\n",
    "**Parameter List**\n",
    "\n",
    "1. `csv_directory`: used to specify the CSV files directory.\n",
    "2. `start_date` and `end_date`: the start and end dates for data processing.\n",
    "3. `building_id`: a building ID for processing data related to a specific building.\n",
    "4. `cpu_cores`: the number of CPU cores to use for parallel processing.\n",
    "5. `sample_freq`: the time between each interpolated point.\n",
    "6. `record_time=True`: performance testing only.\n",
    "\n",
    "---\n"
   ]
  },
  {
   "cell_type": "markdown",
   "metadata": {},
   "source": [
    "1. Set `csv_directory` based on the path to the directory with the CSV files."
   ]
  },
  {
   "cell_type": "code",
   "execution_count": 5,
   "metadata": {},
   "outputs": [
    {
     "data": {
      "text/html": [
       "<div>\n",
       "<style scoped>\n",
       "    .dataframe tbody tr th:only-of-type {\n",
       "        vertical-align: middle;\n",
       "    }\n",
       "\n",
       "    .dataframe tbody tr th {\n",
       "        vertical-align: top;\n",
       "    }\n",
       "\n",
       "    .dataframe thead th {\n",
       "        text-align: right;\n",
       "    }\n",
       "</style>\n",
       "<table border=\"1\" class=\"dataframe\">\n",
       "  <thead>\n",
       "    <tr style=\"text-align: right;\">\n",
       "      <th></th>\n",
       "      <th>datetime</th>\n",
       "      <th>devicecount</th>\n",
       "    </tr>\n",
       "  </thead>\n",
       "  <tbody>\n",
       "    <tr>\n",
       "      <th>0</th>\n",
       "      <td>2019-08-16 08:10:53</td>\n",
       "      <td>92.000000</td>\n",
       "    </tr>\n",
       "    <tr>\n",
       "      <th>1</th>\n",
       "      <td>2019-08-16 08:12:53</td>\n",
       "      <td>93.237113</td>\n",
       "    </tr>\n",
       "    <tr>\n",
       "      <th>2</th>\n",
       "      <td>2019-08-16 08:14:53</td>\n",
       "      <td>94.474227</td>\n",
       "    </tr>\n",
       "    <tr>\n",
       "      <th>3</th>\n",
       "      <td>2019-08-16 08:16:53</td>\n",
       "      <td>95.711340</td>\n",
       "    </tr>\n",
       "    <tr>\n",
       "      <th>4</th>\n",
       "      <td>2019-08-16 08:18:53</td>\n",
       "      <td>96.948454</td>\n",
       "    </tr>\n",
       "  </tbody>\n",
       "</table>\n",
       "</div>"
      ],
      "text/plain": [
       "             datetime  devicecount\n",
       "0 2019-08-16 08:10:53    92.000000\n",
       "1 2019-08-16 08:12:53    93.237113\n",
       "2 2019-08-16 08:14:53    94.474227\n",
       "3 2019-08-16 08:16:53    95.711340\n",
       "4 2019-08-16 08:18:53    96.948454"
      ]
     },
     "execution_count": 5,
     "metadata": {},
     "output_type": "execute_result"
    }
   ],
   "source": [
    "data_processor = dp.DataProcessor( csv_directory   =   './data/input/WiFiData/'    )\n",
    "data           = data_processor.process_all_buildings()\n",
    "\n",
    "data['AERO'].head(5)"
   ]
  },
  {
   "cell_type": "markdown",
   "metadata": {},
   "source": [
    "2. Set `cpu_cores` based on the available cores on your machine for optimal performance."
   ]
  },
  {
   "cell_type": "code",
   "execution_count": 6,
   "metadata": {},
   "outputs": [
    {
     "data": {
      "text/html": [
       "<div>\n",
       "<style scoped>\n",
       "    .dataframe tbody tr th:only-of-type {\n",
       "        vertical-align: middle;\n",
       "    }\n",
       "\n",
       "    .dataframe tbody tr th {\n",
       "        vertical-align: top;\n",
       "    }\n",
       "\n",
       "    .dataframe thead th {\n",
       "        text-align: right;\n",
       "    }\n",
       "</style>\n",
       "<table border=\"1\" class=\"dataframe\">\n",
       "  <thead>\n",
       "    <tr style=\"text-align: right;\">\n",
       "      <th></th>\n",
       "      <th>datetime</th>\n",
       "      <th>devicecount</th>\n",
       "    </tr>\n",
       "  </thead>\n",
       "  <tbody>\n",
       "    <tr>\n",
       "      <th>0</th>\n",
       "      <td>2019-08-16 08:10:53</td>\n",
       "      <td>8.000000</td>\n",
       "    </tr>\n",
       "    <tr>\n",
       "      <th>1</th>\n",
       "      <td>2019-08-16 08:12:53</td>\n",
       "      <td>7.010309</td>\n",
       "    </tr>\n",
       "    <tr>\n",
       "      <th>2</th>\n",
       "      <td>2019-08-16 08:14:53</td>\n",
       "      <td>6.020619</td>\n",
       "    </tr>\n",
       "    <tr>\n",
       "      <th>3</th>\n",
       "      <td>2019-08-16 08:16:53</td>\n",
       "      <td>5.030928</td>\n",
       "    </tr>\n",
       "    <tr>\n",
       "      <th>4</th>\n",
       "      <td>2019-08-16 08:18:53</td>\n",
       "      <td>4.041237</td>\n",
       "    </tr>\n",
       "  </tbody>\n",
       "</table>\n",
       "</div>"
      ],
      "text/plain": [
       "             datetime  devicecount\n",
       "0 2019-08-16 08:10:53     8.000000\n",
       "1 2019-08-16 08:12:53     7.010309\n",
       "2 2019-08-16 08:14:53     6.020619\n",
       "3 2019-08-16 08:16:53     5.030928\n",
       "4 2019-08-16 08:18:53     4.041237"
      ]
     },
     "execution_count": 6,
     "metadata": {},
     "output_type": "execute_result"
    }
   ],
   "source": [
    "data_processor = dp.DataProcessor( cpu_cores   =   10  )\n",
    "data           = data_processor.process_all_buildings()\n",
    "\n",
    "data['ADEN'].head(5)"
   ]
  },
  {
   "cell_type": "markdown",
   "metadata": {},
   "source": [
    "3. Set `sample_freq` if you want to interpolate between points at an interval that is different than `10Min`."
   ]
  },
  {
   "cell_type": "code",
   "execution_count": 7,
   "metadata": {},
   "outputs": [
    {
     "data": {
      "text/html": [
       "<div>\n",
       "<style scoped>\n",
       "    .dataframe tbody tr th:only-of-type {\n",
       "        vertical-align: middle;\n",
       "    }\n",
       "\n",
       "    .dataframe tbody tr th {\n",
       "        vertical-align: top;\n",
       "    }\n",
       "\n",
       "    .dataframe thead th {\n",
       "        text-align: right;\n",
       "    }\n",
       "</style>\n",
       "<table border=\"1\" class=\"dataframe\">\n",
       "  <thead>\n",
       "    <tr style=\"text-align: right;\">\n",
       "      <th></th>\n",
       "      <th>datetime</th>\n",
       "      <th>devicecount</th>\n",
       "    </tr>\n",
       "  </thead>\n",
       "  <tbody>\n",
       "    <tr>\n",
       "      <th>0</th>\n",
       "      <td>2019-08-16 08:10:53</td>\n",
       "      <td>37.000000</td>\n",
       "    </tr>\n",
       "    <tr>\n",
       "      <th>1</th>\n",
       "      <td>2019-08-16 08:30:53</td>\n",
       "      <td>38.339056</td>\n",
       "    </tr>\n",
       "    <tr>\n",
       "      <th>2</th>\n",
       "      <td>2019-08-16 08:50:53</td>\n",
       "      <td>39.410811</td>\n",
       "    </tr>\n",
       "    <tr>\n",
       "      <th>3</th>\n",
       "      <td>2019-08-16 09:10:53</td>\n",
       "      <td>47.601286</td>\n",
       "    </tr>\n",
       "    <tr>\n",
       "      <th>4</th>\n",
       "      <td>2019-08-16 09:30:53</td>\n",
       "      <td>51.946372</td>\n",
       "    </tr>\n",
       "  </tbody>\n",
       "</table>\n",
       "</div>"
      ],
      "text/plain": [
       "             datetime  devicecount\n",
       "0 2019-08-16 08:10:53    37.000000\n",
       "1 2019-08-16 08:30:53    38.339056\n",
       "2 2019-08-16 08:50:53    39.410811\n",
       "3 2019-08-16 09:10:53    47.601286\n",
       "4 2019-08-16 09:30:53    51.946372"
      ]
     },
     "execution_count": 7,
     "metadata": {},
     "output_type": "execute_result"
    }
   ],
   "source": [
    "data_processor = dp.DataProcessor( sample_freq =   '20Min'  )\n",
    "data_frequency = data_processor.process_all_buildings()\n",
    "\n",
    "data_frequency['ATLS'].head(5)"
   ]
  },
  {
   "cell_type": "markdown",
   "metadata": {},
   "source": [
    "4. Set a `start_date` and/or `end_date`."
   ]
  },
  {
   "cell_type": "code",
   "execution_count": 8,
   "metadata": {},
   "outputs": [
    {
     "data": {
      "text/html": [
       "<div>\n",
       "<style scoped>\n",
       "    .dataframe tbody tr th:only-of-type {\n",
       "        vertical-align: middle;\n",
       "    }\n",
       "\n",
       "    .dataframe tbody tr th {\n",
       "        vertical-align: top;\n",
       "    }\n",
       "\n",
       "    .dataframe thead th {\n",
       "        text-align: right;\n",
       "    }\n",
       "</style>\n",
       "<table border=\"1\" class=\"dataframe\">\n",
       "  <thead>\n",
       "    <tr style=\"text-align: right;\">\n",
       "      <th></th>\n",
       "      <th>datetime</th>\n",
       "      <th>devicecount</th>\n",
       "    </tr>\n",
       "  </thead>\n",
       "  <tbody>\n",
       "    <tr>\n",
       "      <th>0</th>\n",
       "      <td>2019-10-01 00:00:00</td>\n",
       "      <td>89.000000</td>\n",
       "    </tr>\n",
       "    <tr>\n",
       "      <th>1</th>\n",
       "      <td>2019-10-01 00:02:00</td>\n",
       "      <td>89.000000</td>\n",
       "    </tr>\n",
       "    <tr>\n",
       "      <th>2</th>\n",
       "      <td>2019-10-01 00:04:00</td>\n",
       "      <td>89.000000</td>\n",
       "    </tr>\n",
       "    <tr>\n",
       "      <th>3</th>\n",
       "      <td>2019-10-01 00:06:00</td>\n",
       "      <td>88.680995</td>\n",
       "    </tr>\n",
       "    <tr>\n",
       "      <th>4</th>\n",
       "      <td>2019-10-01 00:08:00</td>\n",
       "      <td>87.866516</td>\n",
       "    </tr>\n",
       "  </tbody>\n",
       "</table>\n",
       "</div>"
      ],
      "text/plain": [
       "             datetime  devicecount\n",
       "0 2019-10-01 00:00:00    89.000000\n",
       "1 2019-10-01 00:02:00    89.000000\n",
       "2 2019-10-01 00:04:00    89.000000\n",
       "3 2019-10-01 00:06:00    88.680995\n",
       "4 2019-10-01 00:08:00    87.866516"
      ]
     },
     "execution_count": 8,
     "metadata": {},
     "output_type": "execute_result"
    }
   ],
   "source": [
    "from datetime import datetime\n",
    "\n",
    "\n",
    "data_processor  = dp.DataProcessor( start_date  =   datetime( 2019, 10, 1  ), \n",
    "                                    end_date    =   datetime( 2020,  4, 1  )    \n",
    "                                    )\n",
    "\n",
    "data_range      = data_processor.process_all_buildings()\n",
    "\n",
    "data_range['AERO'].head(5)"
   ]
  },
  {
   "cell_type": "markdown",
   "metadata": {},
   "source": [
    "5. Set `building_id` to study a specific building in the form `ATLS`"
   ]
  },
  {
   "cell_type": "code",
   "execution_count": 9,
   "metadata": {},
   "outputs": [],
   "source": [
    "data_processor  = dp.DataProcessor ( building_id    =   'ATLS')\n",
    "data_atlas      = data_processor.process_all_buildings()"
   ]
  },
  {
   "cell_type": "markdown",
   "metadata": {},
   "source": [
    "6. The `record_time` parameter is for performance testing using in the next section."
   ]
  },
  {
   "cell_type": "markdown",
   "metadata": {},
   "source": [
    "\n",
    "---\n",
    "## Speed-Up\n",
    "\n",
    "To illustrate the performance gained by implementing this parallel processing stratigy, a loop was implemented to run the DataProcessor for each core, ranging from 1 to the maximum number of CPU cores. This was done for interpolation between points with each of the following sample frequencies: `['15Min','10Min','5Min','2Min','1Min']`. The total time taken for each run was recorded and plotted, providing a clear visual representation of the performance increase when using multiple CPU cores. The plot demonstrates a noticeable decrease in processing time as the number of cores increases, further emphasizing the benefits of parallel processing. The time is recored into a Python dictionary and converted to a Pandas DataFrame before being returned by the function. \n",
    "\n",
    "Note that the two classes used to generate the next plot must remain in their module. This means that the code cannot be moved to this Jupyter notebook...it must stay in the `.py` file because of the parallel processing. Also note that some of the packages used are not \"thread safe.\" So, if the code is changed and something unexpected happens on the plot, it is most likely a memory issue."
   ]
  },
  {
   "cell_type": "code",
   "execution_count": 1,
   "metadata": {},
   "outputs": [
    {
     "data": {
      "image/png": "[encoded data removed]",
      "text/plain": [
       "<Figure size 1200x500 with 1 Axes>"
      ]
     },
     "metadata": {},
     "output_type": "display_data"
    }
   ],
   "source": [
    "from src.python import DataProcessor as dp\n",
    "\n",
    "processor   = dp.DataProcessor(record_time=True)\n",
    "speed_test  = dp.SpeedTest(processor.process_all_buildings)\n",
    "results     = speed_test.measure_data_processing_speed()"
   ]
  },
  {
   "cell_type": "markdown",
   "metadata": {},
   "source": [
    "The process of data interpolation for 144 points across 77 buildings was significantly expedited by utilizing all 10 cores on a Apple M1 Pro with a 10-core processor and 32 gb of unified memory. **The time required for this operation was reduced from 5.2 seconds to 1.3 seconds**, demonstrating the efficiency of parallel processing independent CSV files. The output data remained consistent, despite the increased processing speed, and was not printed again for brevity. \n",
    "\n",
    "### Result\n",
    "\n",
    "This improvement in performance is a testament to the power of Data Parallelization, a straightforward strategy where each processing unit operates independently, as the memory does not depend on each other. By default, the system will utilize the maximum number of CPU cores available. However, if any issues arise, one can manually set `cpu_cores = 1` to only execute one process at a time.\n",
    "\n",
    "### Future Work\n",
    "\n",
    "This notebook presents a speed-up for the processing procedure on my laptop when it is not connected to a power source. Running this on an HPC cluster would increase the speed exponentially. "
   ]
  }
 ],
 "metadata": {
  "kernelspec": {
   "display_name": "env",
   "language": "python",
   "name": "python3"
  },
  "language_info": {
   "codemirror_mode": {
    "name": "ipython",
    "version": 3
   },
   "file_extension": ".py",
   "mimetype": "text/x-python",
   "name": "python",
   "nbconvert_exporter": "python",
   "pygments_lexer": "ipython3",
   "version": "3.9.16"
  },
  "vscode": {
   "interpreter": {
    "hash": "a335aa7b8104d65e8264f7c1e51dbde0736b339278c97413cd52eaa86eaab2fe"
   }
  }
 },
 "nbformat": 4,
 "nbformat_minor": 2
}
