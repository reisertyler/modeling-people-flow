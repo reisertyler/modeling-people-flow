{
 "cells": [
  {
   "cell_type": "markdown",
   "metadata": {},
   "source": [
    "Date Created: July 22, 2023  \n",
    "By Tyler Reiser\n",
    "\n",
    "# Processing Procedure\n",
    "\n",
    "## Summary\n",
    "\n",
    "This notebook shows how to use the provided Python code that defines a DataProcessor class designed to process WiFi Information from the campus of the University of Colorado Boulder. This class deals with multiple Wi-Fi datasets, each corresponding to a different building on the campus. The input data are stored in CSV files, and the class processes these files for future extraction of useful insights.\n",
    "\n",
    "### Input\n",
    "\n",
    "The Wifi Information for each building on the University of Colorado Boulder campus stored as `CSV` files.\n",
    "\n",
    "### Data Format\n",
    "\n",
    "The Wifi Information for each building on campus from \\[2019-08-16 08:10:53\\] to \\[2021-05-25 06:57:08\\]. The data is segmented into three folders: “UCB Wireless”, “UCB Guest”,  and “Eduroam”; each Folder contains data sets from each network . Every file is a CSV file named in the following format: \\[Building Code\\]_Extracted_Data_\\[Start Date\\]. \n",
    "\n",
    "Each `.csv` file contains the date and time in column zero and the active connected device count in column one. The devices recorded are connected to access points in building rooms, where most rooms have one access point and some have more than one. \n",
    "\n",
    "An example of file data is given below from the UCB Wireless network in Aden Hall. This first row of this example dataset would be read as “In Aden Hall, on August 16, 2019, at 8:10:53, there were eight devices connected to UCB Wireless”.\n",
    "\n",
    "### EXAMPLE: ADEN HALL\n",
    "\n",
    "| datetime |   devicecount  | \n",
    "| -------- |    --------    |\n",
    "| 2019-08-16 08:10:53 | 8.0 |\n",
    "| 2019-08-16 08:18:58 | 4.0 |\n",
    "| 2019-08-16 08:28:17 | 5.0 |\n",
    "| 2019-08-16 08:32:10 | 9.0 |\n",
    "| 2019-08-16 08:37:38 | 6.0 |\n",
    "| 2019-08-16 08:42:51 | 9.0 |\n",
    "| 2019-08-16 08:47:59 | 5.0 |\n",
    "\n",
    "### Setting Directory Paths\n",
    "\n",
    "Store `.csv` files at `BASE_DIR/data/input/WiFiData`.\n",
    "\n",
    "### Output\n",
    "\n",
    "The result of the `process_all_buildings` method is a list of buildings to process (either all buildings or a specific building if `building_id` is provided), and uses the joblib's `Parallel` function to process the data for these buildings in parallel, making use of multiple CPU cores if available. The number of cores used for parallel processing is determined by the `cpu_cores` parameter passed during the initialization of the `DataProcessor` object. The method returns a dictionary where the keys are building names and the values are the processed DataFrames for each building. This design enhances performance, especially when processing large amounts of data across multiple files.\n",
    "\n",
    "## The DataProcessor Class\n",
    "\n",
    "---\n",
    "\n",
    "- Initialization Method (__init__):\n",
    "\n",
    "The `DataProcessor` class is initialized with parameters which include the directory where the CSV files are stored, the start and end dates for the data to be considered, a specific building_id if the user would like to process data for a particular building only, the number of CPU cores to utilize for the computation, the frequency at which to sample data, and a boolean to decide whether to record the total execution time.\n",
    "\n",
    "The `DataProcessor` class used the following methods internally:\n",
    "\n",
    "- Reading Data Method (`read_time_series_data`):\n",
    "\n",
    "The `read_time_series_data` method is a static method, meaning it does not depend on the state of the DataProcessor instance. This method reads data from a CSV file and returns a DataFrame. It also converts the \"datetime\" column to actual datetime objects for easy handling in subsequent methods.\n",
    "\n",
    "- Interpolating Data Method (`interpolate_time_series_data`):\n",
    "\n",
    "The interpolate_time_series_data method implements interpolation on the provided data. This is useful to fill gaps in the dataset where data points might be missing. With the help of the pandas.date_range function, a date range object is created from the minimum date to the maximum date with a frequency set by the sample_freq attribute. The method then interpolates the missing data points and returns an updated DataFrame.\n",
    "\n",
    "- Building Identifiers Method (`_get_building_identifiers` and `_get_buildings`):\n",
    "\n",
    "The `_get_building_identifier`s is a static method that retrieves the building identifiers from a given filename. It splits the filename, which has the structure \"buildingID_Extracted_Data_date.csv\", into a list using \"_\" as the delimiter and then returns the building id.\n",
    "\n",
    "- Data Processing Method (`_process_building_data and process_all_buildings`):\n",
    "\n",
    "The `_process_building_data` method processes the data for a single building. It uses the `read_time_series_data` method to read the dataset and `interpolate_time_series_data` to interpolate missing data.\n",
    "\n",
    "The `process_all_buildings` method applies the above steps to all buildings. It first gets the list of buildings to process, either a single one if `building_id` is provided, or all buildings in the directory otherwise. Then, using joblib's Parallel and delayed functions, it processes data for all these buildings in parallel, making efficient use of multiple CPU cores if available. It returns a dictionary where keys are building names and values are DataFrames containing corresponding processed data.\n",
    "\n",
    "If `record_time` is set True, it records and returns execution time for data processing. This is used for performance testing.\n",
    "\n",
    "---\n",
    "\n",
    "## General Workflow\n",
    "\n",
    "1. Set the directory path for the WiFi Information dataset"
   ]
  },
  {
   "cell_type": "code",
   "execution_count": 1,
   "metadata": {},
   "outputs": [],
   "source": [
    "from src.python.DataProcessor import *"
   ]
  },
  {
   "cell_type": "markdown",
   "metadata": {},
   "source": [
    "2. Import the `DataProcessor` class"
   ]
  },
  {
   "cell_type": "code",
   "execution_count": 2,
   "metadata": {},
   "outputs": [],
   "source": [
    "data_processor = DataProcessor()"
   ]
  },
  {
   "cell_type": "markdown",
   "metadata": {},
   "source": [
    "3. Create an instance of the `DataProcessor` class using the the `process_all_buildings` method"
   ]
  },
  {
   "cell_type": "code",
   "execution_count": 3,
   "metadata": {},
   "outputs": [],
   "source": [
    "data = data_processor.process_all_buildings()"
   ]
  },
  {
   "cell_type": "markdown",
   "metadata": {},
   "source": [
    "4. Call both columns of data for the Aerospace building like this:"
   ]
  },
  {
   "cell_type": "code",
   "execution_count": 4,
   "metadata": {},
   "outputs": [
    {
     "data": {
      "text/html": [
       "<div>\n",
       "<style scoped>\n",
       "    .dataframe tbody tr th:only-of-type {\n",
       "        vertical-align: middle;\n",
       "    }\n",
       "\n",
       "    .dataframe tbody tr th {\n",
       "        vertical-align: top;\n",
       "    }\n",
       "\n",
       "    .dataframe thead th {\n",
       "        text-align: right;\n",
       "    }\n",
       "</style>\n",
       "<table border=\"1\" class=\"dataframe\">\n",
       "  <thead>\n",
       "    <tr style=\"text-align: right;\">\n",
       "      <th></th>\n",
       "      <th>datetime</th>\n",
       "      <th>devicecount</th>\n",
       "    </tr>\n",
       "  </thead>\n",
       "  <tbody>\n",
       "    <tr>\n",
       "      <th>0</th>\n",
       "      <td>2019-08-16 08:10:53</td>\n",
       "      <td>92.000000</td>\n",
       "    </tr>\n",
       "    <tr>\n",
       "      <th>1</th>\n",
       "      <td>2019-08-16 08:20:53</td>\n",
       "      <td>98.234347</td>\n",
       "    </tr>\n",
       "    <tr>\n",
       "      <th>2</th>\n",
       "      <td>2019-08-16 08:30:53</td>\n",
       "      <td>105.678112</td>\n",
       "    </tr>\n",
       "    <tr>\n",
       "      <th>3</th>\n",
       "      <td>2019-08-16 08:40:53</td>\n",
       "      <td>116.115016</td>\n",
       "    </tr>\n",
       "    <tr>\n",
       "      <th>4</th>\n",
       "      <td>2019-08-16 08:50:53</td>\n",
       "      <td>118.881081</td>\n",
       "    </tr>\n",
       "    <tr>\n",
       "      <th>...</th>\n",
       "      <td>...</td>\n",
       "      <td>...</td>\n",
       "    </tr>\n",
       "    <tr>\n",
       "      <th>93300</th>\n",
       "      <td>2021-05-25 06:10:53</td>\n",
       "      <td>44.000000</td>\n",
       "    </tr>\n",
       "    <tr>\n",
       "      <th>93301</th>\n",
       "      <td>2021-05-25 06:20:53</td>\n",
       "      <td>45.000000</td>\n",
       "    </tr>\n",
       "    <tr>\n",
       "      <th>93302</th>\n",
       "      <td>2021-05-25 06:30:53</td>\n",
       "      <td>46.561462</td>\n",
       "    </tr>\n",
       "    <tr>\n",
       "      <th>93303</th>\n",
       "      <td>2021-05-25 06:40:53</td>\n",
       "      <td>46.225914</td>\n",
       "    </tr>\n",
       "    <tr>\n",
       "      <th>93304</th>\n",
       "      <td>2021-05-25 06:50:53</td>\n",
       "      <td>47.000000</td>\n",
       "    </tr>\n",
       "  </tbody>\n",
       "</table>\n",
       "<p>93305 rows × 2 columns</p>\n",
       "</div>"
      ],
      "text/plain": [
       "                 datetime  devicecount\n",
       "0     2019-08-16 08:10:53    92.000000\n",
       "1     2019-08-16 08:20:53    98.234347\n",
       "2     2019-08-16 08:30:53   105.678112\n",
       "3     2019-08-16 08:40:53   116.115016\n",
       "4     2019-08-16 08:50:53   118.881081\n",
       "...                   ...          ...\n",
       "93300 2021-05-25 06:10:53    44.000000\n",
       "93301 2021-05-25 06:20:53    45.000000\n",
       "93302 2021-05-25 06:30:53    46.561462\n",
       "93303 2021-05-25 06:40:53    46.225914\n",
       "93304 2021-05-25 06:50:53    47.000000\n",
       "\n",
       "[93305 rows x 2 columns]"
      ]
     },
     "execution_count": 4,
     "metadata": {},
     "output_type": "execute_result"
    }
   ],
   "source": [
    "data[   'AERO'  ]"
   ]
  },
  {
   "cell_type": "markdown",
   "metadata": {},
   "source": [
    "5. call the first column of data for an individual building:"
   ]
  },
  {
   "cell_type": "code",
   "execution_count": 5,
   "metadata": {},
   "outputs": [
    {
     "data": {
      "text/plain": [
       "0        37.000000\n",
       "1        37.000000\n",
       "2        38.339056\n",
       "3        37.000000\n",
       "4        39.410811\n",
       "           ...    \n",
       "93300    55.219269\n",
       "93301    56.000000\n",
       "93302    55.219269\n",
       "93303    55.225914\n",
       "93304    56.000000\n",
       "Name: devicecount, Length: 93305, dtype: float64"
      ]
     },
     "execution_count": 5,
     "metadata": {},
     "output_type": "execute_result"
    }
   ],
   "source": [
    "data[   'ATLS'  ][  'devicecount'   ]"
   ]
  },
  {
   "cell_type": "markdown",
   "metadata": {},
   "source": [
    "### Optional Parameters\n",
    "\n",
    "The simplest use of the `DataProcessor` class is to pass no values, which is shown above. The following section demonstrates options for improving performance of the processing procedure and initialization of several parameters.\n",
    "\n",
    "---\n",
    "**Parameter List**\n",
    "\n",
    "1. `csv_directory`: used to specify the CSV files directory.\n",
    "2. `start_date` and `end_date`: the start and end dates for data processing.\n",
    "3. `building_id`: a building ID for processing data related to a specific building.\n",
    "4. `cpu_cores`: the number of CPU cores to use for parallel processing.\n",
    "5. `sample_freq`: the time between each interpolated point.\n",
    "6. `record_time=True`: performance testing only.\n",
    "\n",
    "---\n"
   ]
  },
  {
   "cell_type": "markdown",
   "metadata": {},
   "source": [
    "1. Set `csv_directory` based on the path to the directory with the CSV files."
   ]
  },
  {
   "cell_type": "code",
   "execution_count": null,
   "metadata": {},
   "outputs": [],
   "source": [
    "data_processor = DataProcessor( csv_directory   =   './data/input/WiFiData/'    )\n",
    "data           = data_processor.process_all_buildings()"
   ]
  },
  {
   "cell_type": "markdown",
   "metadata": {},
   "source": [
    "2. Set `cpu_cores` based on the available cores on your machine for optimal performance."
   ]
  },
  {
   "cell_type": "code",
   "execution_count": 6,
   "metadata": {},
   "outputs": [],
   "source": [
    "data_processor = DataProcessor( cpu_cores   =   1  )\n",
    "data           = data_processor.process_all_buildings()"
   ]
  },
  {
   "cell_type": "markdown",
   "metadata": {},
   "source": [
    "3. Set `sample_freq` if you want to interpolate between points at an interval that is different than `10Min`."
   ]
  },
  {
   "cell_type": "code",
   "execution_count": 7,
   "metadata": {},
   "outputs": [],
   "source": [
    "data_processor = DataProcessor( sample_freq =   '20Min')\n",
    "data_frequency = data_processor.process_all_buildings()"
   ]
  },
  {
   "cell_type": "markdown",
   "metadata": {},
   "source": [
    "4. Set a `start_date` and/or `end_date`."
   ]
  },
  {
   "cell_type": "code",
   "execution_count": 8,
   "metadata": {},
   "outputs": [],
   "source": [
    "start_date  = datetime( 2019, 1, 1  ) \n",
    "end_date    = datetime( 2020, 1, 7  )\n",
    "\n",
    "data_processor  = DataProcessor( cpu_cores  =   10, start_date = start_date, end_date = end_date    )\n",
    "data_range      = data_processor.process_all_buildings()"
   ]
  },
  {
   "cell_type": "markdown",
   "metadata": {},
   "source": [
    "5. Set `building_id` to study a specific building in the form `ATLS`"
   ]
  },
  {
   "cell_type": "code",
   "execution_count": 9,
   "metadata": {},
   "outputs": [],
   "source": [
    "data_processor  = DataProcessor ( cpu_cores =   10, building_id =   'ATLS')\n",
    "data_atlas      = data_processor.process_all_buildings()"
   ]
  },
  {
   "cell_type": "markdown",
   "metadata": {},
   "source": [
    "6. `record_time=True` is only for performance testing and will not return a dictionary of data."
   ]
  },
  {
   "cell_type": "markdown",
   "metadata": {},
   "source": [
    "### Speed-Up\n",
    "\n",
    "The process of data interpolation for 144 points across 77 buildings was significantly expedited by utilizing all 10 cores on a Apple M1 Pro with a 10-core processor and 32 gb of unified memory. **The time required for this operation was reduced from 5.2 seconds to 1.3 seconds**, demonstrating the efficiency of parallel processing independent CSV files. The output data remained consistent, despite the increased processing speed, and was not printed again for brevity.\n",
    "\n",
    "This improvement in performance is a testament to the power of Data Parallelization, a straightforward strategy where each processing unit operates independently, as the memory does not depend on each other. By default, the system will utilize the maximum number of CPU cores available. However, if any issues arise, one can manually set `cpu_cores = 1` to only execute one process at a time.\n",
    "\n",
    "To illustrate the performance gained by implementing this parallel processing stratigy, a loop was implemented to run the DataProcessor for each core, ranging from 1 to the maximum number of CPU cores. This was done for interpolation between points with each of the following sample frequencies: `['15Min','10Min','5Min','2Min','1Min']`. The total time taken for each run was recorded and plotted, providing a clear visual representation of the performance increase when using multiple CPU cores. The plot demonstrates a noticeable decrease in processing time as the number of cores increases, further emphasizing the benefits of parallel processing. \n",
    "\n",
    "The time is recored into a Python dictionary and converted to a Pandas DataFrame before being returned by the function."
   ]
  },
  {
   "cell_type": "code",
   "execution_count": 10,
   "metadata": {},
   "outputs": [
    {
     "name": "stderr",
     "output_type": "stream",
     "text": [
      "/opt/homebrew/Caskroom/miniforge/base/envs/tf/lib/python3.8/site-packages/joblib/externals/loky/process_executor.py:702: UserWarning: A worker stopped while some jobs were given to the executor. This can be caused by a too short worker timeout or by a memory leak.\n",
      "  warnings.warn(\n",
      "/opt/homebrew/Caskroom/miniforge/base/envs/tf/lib/python3.8/site-packages/joblib/externals/loky/process_executor.py:702: UserWarning: A worker stopped while some jobs were given to the executor. This can be caused by a too short worker timeout or by a memory leak.\n",
      "  warnings.warn(\n",
      "/opt/homebrew/Caskroom/miniforge/base/envs/tf/lib/python3.8/site-packages/joblib/externals/loky/process_executor.py:702: UserWarning: A worker stopped while some jobs were given to the executor. This can be caused by a too short worker timeout or by a memory leak.\n",
      "  warnings.warn(\n",
      "/opt/homebrew/Caskroom/miniforge/base/envs/tf/lib/python3.8/site-packages/joblib/externals/loky/process_executor.py:702: UserWarning: A worker stopped while some jobs were given to the executor. This can be caused by a too short worker timeout or by a memory leak.\n",
      "  warnings.warn(\n"
     ]
    },
    {
     "data": {
      "image/png": "[encoded data removed]",
      "text/plain": [
       "<Figure size 1200x500 with 1 Axes>"
      ]
     },
     "metadata": {},
     "output_type": "display_data"
    },
    {
     "data": {
      "text/html": [
       "<div>\n",
       "<style scoped>\n",
       "    .dataframe tbody tr th:only-of-type {\n",
       "        vertical-align: middle;\n",
       "    }\n",
       "\n",
       "    .dataframe tbody tr th {\n",
       "        vertical-align: top;\n",
       "    }\n",
       "\n",
       "    .dataframe thead th {\n",
       "        text-align: right;\n",
       "    }\n",
       "</style>\n",
       "<table border=\"1\" class=\"dataframe\">\n",
       "  <thead>\n",
       "    <tr style=\"text-align: right;\">\n",
       "      <th></th>\n",
       "      <th>15Min</th>\n",
       "      <th>10Min</th>\n",
       "      <th>5Min</th>\n",
       "      <th>2Min</th>\n",
       "      <th>1Min</th>\n",
       "    </tr>\n",
       "  </thead>\n",
       "  <tbody>\n",
       "    <tr>\n",
       "      <th>0</th>\n",
       "      <td>5.579688</td>\n",
       "      <td>5.944640</td>\n",
       "      <td>6.976881</td>\n",
       "      <td>9.948531</td>\n",
       "      <td>15.111787</td>\n",
       "    </tr>\n",
       "    <tr>\n",
       "      <th>1</th>\n",
       "      <td>3.499902</td>\n",
       "      <td>3.079136</td>\n",
       "      <td>3.798384</td>\n",
       "      <td>5.723662</td>\n",
       "      <td>10.466511</td>\n",
       "    </tr>\n",
       "    <tr>\n",
       "      <th>2</th>\n",
       "      <td>2.551727</td>\n",
       "      <td>2.140730</td>\n",
       "      <td>2.599642</td>\n",
       "      <td>4.100113</td>\n",
       "      <td>6.911577</td>\n",
       "    </tr>\n",
       "    <tr>\n",
       "      <th>3</th>\n",
       "      <td>2.181487</td>\n",
       "      <td>1.722807</td>\n",
       "      <td>2.022027</td>\n",
       "      <td>3.072442</td>\n",
       "      <td>4.985897</td>\n",
       "    </tr>\n",
       "    <tr>\n",
       "      <th>4</th>\n",
       "      <td>1.966940</td>\n",
       "      <td>1.413597</td>\n",
       "      <td>1.690244</td>\n",
       "      <td>2.599020</td>\n",
       "      <td>4.163596</td>\n",
       "    </tr>\n",
       "    <tr>\n",
       "      <th>5</th>\n",
       "      <td>1.811360</td>\n",
       "      <td>1.247578</td>\n",
       "      <td>1.534215</td>\n",
       "      <td>2.232159</td>\n",
       "      <td>3.707289</td>\n",
       "    </tr>\n",
       "    <tr>\n",
       "      <th>6</th>\n",
       "      <td>1.676413</td>\n",
       "      <td>1.106722</td>\n",
       "      <td>1.322568</td>\n",
       "      <td>2.023009</td>\n",
       "      <td>3.246027</td>\n",
       "    </tr>\n",
       "    <tr>\n",
       "      <th>7</th>\n",
       "      <td>1.626091</td>\n",
       "      <td>1.063120</td>\n",
       "      <td>1.196146</td>\n",
       "      <td>1.934164</td>\n",
       "      <td>3.116937</td>\n",
       "    </tr>\n",
       "    <tr>\n",
       "      <th>8</th>\n",
       "      <td>1.684430</td>\n",
       "      <td>0.997538</td>\n",
       "      <td>1.182182</td>\n",
       "      <td>1.958248</td>\n",
       "      <td>3.082937</td>\n",
       "    </tr>\n",
       "    <tr>\n",
       "      <th>9</th>\n",
       "      <td>1.833730</td>\n",
       "      <td>1.006468</td>\n",
       "      <td>1.146626</td>\n",
       "      <td>2.056730</td>\n",
       "      <td>2.989814</td>\n",
       "    </tr>\n",
       "  </tbody>\n",
       "</table>\n",
       "</div>"
      ],
      "text/plain": [
       "      15Min     10Min      5Min      2Min       1Min\n",
       "0  5.579688  5.944640  6.976881  9.948531  15.111787\n",
       "1  3.499902  3.079136  3.798384  5.723662  10.466511\n",
       "2  2.551727  2.140730  2.599642  4.100113   6.911577\n",
       "3  2.181487  1.722807  2.022027  3.072442   4.985897\n",
       "4  1.966940  1.413597  1.690244  2.599020   4.163596\n",
       "5  1.811360  1.247578  1.534215  2.232159   3.707289\n",
       "6  1.676413  1.106722  1.322568  2.023009   3.246027\n",
       "7  1.626091  1.063120  1.196146  1.934164   3.116937\n",
       "8  1.684430  0.997538  1.182182  1.958248   3.082937\n",
       "9  1.833730  1.006468  1.146626  2.056730   2.989814"
      ]
     },
     "execution_count": 10,
     "metadata": {},
     "output_type": "execute_result"
    }
   ],
   "source": [
    "from src.python.performance_testing import *\n",
    "dataProcessor_speedUp_visual()"
   ]
  },
  {
   "cell_type": "markdown",
   "metadata": {},
   "source": [
    "## Reference List\n",
    "\n"
   ]
  },
  {
   "cell_type": "markdown",
   "metadata": {},
   "source": []
  }
 ],
 "metadata": {
  "kernelspec": {
   "display_name": "Python 3 (ipykernel)",
   "language": "python",
   "name": "python3"
  },
  "language_info": {
   "codemirror_mode": {
    "name": "ipython",
    "version": 3
   },
   "file_extension": ".py",
   "mimetype": "text/x-python",
   "name": "python",
   "nbconvert_exporter": "python",
   "pygments_lexer": "ipython3",
   "version": "3.8.16"
  }
 },
 "nbformat": 4,
 "nbformat_minor": 2
}
