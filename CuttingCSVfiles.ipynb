{
 "cells": [
  {
   "cell_type": "markdown",
   "metadata": {},
   "source": [
    "# The `DataFilter` Class\n",
    "\n",
    "The class `DataFilter` is initialized with 4 parameters: \n",
    "    1. start_date\n",
    "    2. end_date\n",
    "    3. input_directory\n",
    "    4. output_directory.\n",
    "\n",
    "`start_date` and `end_date` are the date range limits that Pandas converts to datetime objects. `input_directory` is where the original CSV files are stored. `output_directory` is where the new CSV files with filtered data will be saved.\n",
    "\n",
    "\n",
    "The class has one method named `filter_data` that loads all the CSV files from the `input_directory`. Then, for each of these files, the program does the following:\n",
    "\n",
    "    - reads the CSV file into a pandas DataFrame, with the assumption that the CSV file has no header.\n",
    "\n",
    "    - assigns the column names as 'datetime' and 'devicecount'.\n",
    "\n",
    "    - converts the 'datetime' column into a datetime format suitable for filtering.\n",
    "\n",
    "    - creates a mask for the date range: any date within `start_date` and `end_date` will have the value True. The mask is to make a DataFrame (filtered_data) from the original DataFrame that only includes data rows within the date range specified.\n",
    "\n",
    "    - If the output directory does not exist, it creates one.\n",
    "\n",
    "    - name of the output file is taken from the original file and saves `filtered_data` into a new CSV file in the `output_directory`.\n",
    "    "
   ]
  },
  {
   "cell_type": "code",
   "execution_count": 1,
   "metadata": {},
   "outputs": [],
   "source": [
    "import os\n",
    "import pandas as pd\n",
    "from glob import glob\n",
    "\n",
    "class DataFilter:\n",
    "    def __init__(self, start_date, end_date, input_directory, output_directory):\n",
    "        self.start_date         = pd.to_datetime(start_date)\n",
    "        self.end_date           = pd.to_datetime(end_date)\n",
    "        self.input_directory    = input_directory\n",
    "        self.output_directory   = output_directory\n",
    "\n",
    "    def filter_data(self):\n",
    "        csv_files = glob(os.path.join(self.input_directory, '*.csv'))\n",
    "\n",
    "        for file in csv_files:\n",
    "            try:\n",
    "                df              = pd.read_csv(file, header=None)\n",
    "                df.columns      = ['datetime', 'devicecount']\n",
    "                df['datetime']  = pd.to_datetime(df['datetime'])\n",
    "                mask            = (df['datetime'] > self.start_date) & (df['datetime'] <= self.end_date)\n",
    "                filtered_data   = df.loc[mask]\n",
    "                \n",
    "                if not os.path.exists(self.output_directory):\n",
    "                    os.makedirs(self.output_directory)\n",
    "            \n",
    "                file_name   = os.path.basename(file)\n",
    "                output_file = os.path.join(self.output_directory, file_name)\n",
    "                filtered_data.to_csv(output_file, index=False)\n",
    "\n",
    "            except Exception as e:\n",
    "                print(f\"An error occurred when processing {file}: {e}\")\n",
    "\n",
    "            \n",
    "            \n",
    "BASE_DIR            = os.getcwd()\n",
    "\n",
    "def build_path(*args):\n",
    "    return os.path.join(BASE_DIR, *args)\n",
    "\n",
    "CSV_DIRECTORY       = build_path('data', 'input', 'WiFiData')\n",
    "\n",
    "data_filter = DataFilter('2019-09-15', '2019-11-15', CSV_DIRECTORY , 'CUT-CSV')\n",
    "data_filter.filter_data()\n"
   ]
  },
  {
   "cell_type": "code",
   "execution_count": null,
   "metadata": {},
   "outputs": [],
   "source": [
    "BASE_DIR            = os.getcwd()\n",
    "\n",
    "def build_path(*args):\n",
    "    return os.path.join(BASE_DIR, *args)\n",
    "\n",
    "CSV_DIRECTORY       = build_path('data', 'input', 'WiFiData')\n",
    "\n",
    "data_filter = DataFilter('2019-09-15', '2019-11-15', CSV_DIRECTORY , 'CUT-CSV')\n",
    "data_filter.filter_data()"
   ]
  }
 ],
 "metadata": {
  "kernelspec": {
   "display_name": "tf",
   "language": "python",
   "name": "python3"
  },
  "language_info": {
   "codemirror_mode": {
    "name": "ipython",
    "version": 3
   },
   "file_extension": ".py",
   "mimetype": "text/x-python",
   "name": "python",
   "nbconvert_exporter": "python",
   "pygments_lexer": "ipython3",
   "version": "3.8.16"
  },
  "orig_nbformat": 4
 },
 "nbformat": 4,
 "nbformat_minor": 2
}
