{
 "cells": [
  {
   "cell_type": "markdown",
   "metadata": {},
   "source": [
    "---\n",
    "\n",
    "# Modeling Population Flow Using Wireless Communication Information Reports\n",
    "\n",
    "---\n",
    "\n",
    "This notebook shows how to use Python code designed to process WiFi Information from the the University of Colorado Boulder campus. There are a number of different modules explained in this notebook.\n",
    "\n",
    "## Data Overview: Campus WiFi\n",
    "\n",
    "### Input\n",
    "\n",
    "The Wifi Information for each building on the University of Colorado Boulder campus stored as `CSV` files.\n",
    "\n",
    "### Data Format\n",
    "\n",
    "The Wifi Information for each building on campus from \\[2019-08-16 08:10:53\\] to \\[2021-05-25 06:57:08\\]. The data is segmented into three folders: “UCB Wireless”, “UCB Guest”,  and “Eduroam”; each Folder contains data sets from each network . Every file is a CSV file named in the following format: \\[Building Code\\]_Extracted_Data_\\[Start Date\\]. \n",
    "\n",
    "Each `.csv` file contains the date and time in column zero and the active connected device count in column one. The devices recorded are connected to access points in building rooms, where most rooms have one access point and some have more than one. \n",
    "\n",
    "An example of file data is given below from the UCB Wireless network in Aden Hall. This first row of this example dataset would be read as “In Aden Hall, on August 16, 2019, at 8:10:53, there were eight devices connected to UCB Wireless”.\n",
    "\n",
    "### EXAMPLE: ADEN HALL\n",
    "\n",
    "| datetime |   devicecount  | \n",
    "| -------- |    --------    |\n",
    "| 2019-08-16 08:10:53 | 8.0 |\n",
    "| 2019-08-16 08:18:58 | 4.0 |\n",
    "| 2019-08-16 08:28:17 | 5.0 |\n",
    "| 2019-08-16 08:32:10 | 9.0 |\n",
    "| 2019-08-16 08:37:38 | 6.0 |\n",
    "| 2019-08-16 08:42:51 | 9.0 |\n",
    "| 2019-08-16 08:47:59 | 5.0 |\n",
    "\n",
    "Store `.csv` files at `BASE_DIR/data/input/WiFiData`.\n",
    "\n",
    "Here is a list of buildings: \n",
    "\n",
    "```python\n",
    "\n",
    "Community = ['ALUM','C4C','LIBR','REC','Rec','STAD','STSB','STTB','stad']\n",
    "\n",
    "Residential = [ 'ADEN', 'ANDS', 'ARNT', 'BCAPA','BCAPB', 'BRKT', 'BUCK', \n",
    "                'CHEY', 'KITW', 'CROS', 'CKRL', 'FRND', 'HLET', 'DLYT', \n",
    "                'HLMS', 'LIBY', 'SMTH', 'REED', 'STRN', 'SWLL', 'WLRD',\n",
    "                'WVC',  'WVE',  'WVN',  'WVRC', 'arnt', 'bker', 'kcen',\n",
    "                'kitw', 'URES' \n",
    "                ]\n",
    "\n",
    "EngineeringQuad = ['CKRL', 'ADEN', 'CROS', 'BRKT']\n",
    "\n",
    "all_buildings = ['ADEN',  'AERO',  'ALMG', 'ALUM', 'ANDS', 'ARNT', 'ATLS', \n",
    "                 'BCAPA', 'BCAPB', 'BIOT', 'bker', 'BRKT', 'BUCK', 'C4C', \n",
    "                 'CARL',  'CASA',  'CASE', 'CHEY', 'CHMP', 'CKRL', 'CROS',\n",
    "                 'DACR',  'DACR',  'DALW', 'DLC',  'DLYT', 'DUAN', 'ECAD', \n",
    "                 'ECCE',  'ECCR',  'ECEE', 'ECES', 'ECME', 'ECON', 'ECOT', \n",
    "                 'ECST',  'EDEP',  'EHSC', 'EKLC', 'ENVD', 'FRND', 'GOLD', \n",
    "                 'GUGG',  'HEND',  'HLET', 'HLMS', 'ITLL', 'kcen', 'KITW',\n",
    "                 'KOBL',  'KTCH',  'LESS', 'LIBR', 'LIBY', 'LSRL', 'MUS',\n",
    "                 'RAMY' , 'REC',   'REED', 'SEEC', 'SEEL', 'SMTH', 'SPSC',\n",
    "                 'STAD',  'STRN',  'STSB', 'STTB', 'SWLL', 'UMC',  'URES',  \n",
    "                 'VAC',   'WLAW',  'WLRD', 'WVC',  'WVE',  'WVN',  'WVRC'\n",
    "                 ]\n",
    "```"
   ]
  },
  {
   "cell_type": "code",
   "execution_count": 1,
   "metadata": {},
   "outputs": [
    {
     "name": "stdout",
     "output_type": "stream",
     "text": [
      "There are 75 buildings in the list.\n"
     ]
    }
   ],
   "source": [
    "# Utility\n",
    "\n",
    "all_buildings = [\n",
    "    \"ADEN\",\n",
    "    \"AERO\",\n",
    "    \"ALMG\",\n",
    "    \"ALUM\",\n",
    "    \"ANDS\",\n",
    "    \"ARNT\",\n",
    "    \"ATLS\",\n",
    "    \"BCAPA\",\n",
    "    \"BCAPB\",\n",
    "    \"BIOT\",\n",
    "    \"bker\",\n",
    "    \"BRKT\",\n",
    "    \"BUCK\",\n",
    "    \"C4C\",\n",
    "    \"CARL\",\n",
    "    \"CASA\",\n",
    "    \"CASE\",\n",
    "    \"CHEY\",\n",
    "    \"CHMP\",\n",
    "    \"CKRL\",\n",
    "    \"CROS\",\n",
    "    \"DACR\",\n",
    "    \"DALW\",\n",
    "    \"DLC\",\n",
    "    \"DLYT\",\n",
    "    \"DUAN\",\n",
    "    \"ECAD\",\n",
    "    \"ECCE\",\n",
    "    \"ECCR\",\n",
    "    \"ECEE\",\n",
    "    \"ECES\",\n",
    "    \"ECME\",\n",
    "    \"ECON\",\n",
    "    \"ECOT\",\n",
    "    \"ECST\",\n",
    "    \"EDEP\",\n",
    "    \"EHSC\",\n",
    "    \"EKLC\",\n",
    "    \"ENVD\",\n",
    "    \"FRND\",\n",
    "    \"GOLD\",\n",
    "    \"GUGG\",\n",
    "    \"HEND\",\n",
    "    \"HLET\",\n",
    "    \"HLMS\",\n",
    "    \"ITLL\",\n",
    "    \"kcen\",\n",
    "    \"KOBL\",\n",
    "    \"KTCH\",\n",
    "    \"LESS\",\n",
    "    \"LIBR\",\n",
    "    \"LIBY\",\n",
    "    \"LSRL\",\n",
    "    \"MUS\",\n",
    "    \"RAMY\",\n",
    "    \"REC\",\n",
    "    \"REED\",\n",
    "    \"SEEC\",\n",
    "    \"SEEL\",\n",
    "    \"SMTH\",\n",
    "    \"SPSC\",\n",
    "    \"STAD\",\n",
    "    \"STRN\",\n",
    "    \"STSB\",\n",
    "    \"STTB\",\n",
    "    \"SWLL\",\n",
    "    \"UMC\",\n",
    "    \"URES\",\n",
    "    \"VAC\",\n",
    "    \"WLAW\",\n",
    "    \"WLRD\",\n",
    "    \"WVC\",\n",
    "    \"WVE\",\n",
    "    \"WVN\",\n",
    "    \"WVRC\",\n",
    "]\n",
    "\n",
    "num_of_buildings = len(all_buildings)\n",
    "print(f\"There are {num_of_buildings} buildings in the list.\")"
   ]
  },
  {
   "cell_type": "code",
   "execution_count": 3,
   "metadata": {},
   "outputs": [
    {
     "name": "stdout",
     "output_type": "stream",
     "text": [
      "There are 25 buildings in the residential buildings list.\n",
      "There are 7 buildings in the community buildings list.\n",
      "There are 45 buildings in the class buildings list.\n",
      "There are 77 buildings in total.\n"
     ]
    }
   ],
   "source": [
    "residential_buildings = [\n",
    "    \"ADEN\",\n",
    "    \"ANDS\",\n",
    "    \"BCAPA\",\n",
    "    \"BCAPB\",\n",
    "    \"BRKT\",\n",
    "    \"BUCK\",\n",
    "    \"CHEY\",\n",
    "    \"CROS\",\n",
    "    \"CKRL\",\n",
    "    \"FRND\",\n",
    "    \"HLET\",\n",
    "    \"DLYT\",\n",
    "    \"HLMS\",\n",
    "    \"LIBY\",\n",
    "    \"REED\",\n",
    "    \"SMTH\",\n",
    "    \"STRN\",\n",
    "    \"SWLL\",\n",
    "    \"WLRD\",\n",
    "    \"WVE\",\n",
    "    \"WVN\",\n",
    "    \"arnt\",\n",
    "    \"bker\",\n",
    "    \"kcen\",\n",
    "    \"kitw\",\n",
    "]\n",
    "\n",
    "community_building_list = [\"ALUM\", \"C4C\", \"LIBR\", \"REC\", \"STAD\", \"STSB\", \"STTB\"]\n",
    "\n",
    "class_building_list = [\n",
    "    \"AERO\",\n",
    "    \"ALMG\",\n",
    "    \"ARNT\",\n",
    "    \"ATLS\",\n",
    "    \"BIOT\",\n",
    "    \"CARL\",\n",
    "    \"CASA\",\n",
    "    \"CASE\",\n",
    "    \"CHMP\",\n",
    "    \"DACR\",\n",
    "    \"DALW\",\n",
    "    \"DLC\",\n",
    "    \"DUAN\",\n",
    "    \"ECAD\",\n",
    "    \"ECCE\",\n",
    "    \"ECCR\",\n",
    "    \"ECEE\",\n",
    "    \"ECES\",\n",
    "    \"ECME\",\n",
    "    \"ECON\",\n",
    "    \"ECOT\",\n",
    "    \"ECST\",\n",
    "    \"EDEP\",\n",
    "    \"EHSC\",\n",
    "    \"EKLC\",\n",
    "    \"ENVD\",\n",
    "    \"GOLD\",\n",
    "    \"GUGG\",\n",
    "    \"HEND\",\n",
    "    \"ITLL\",\n",
    "    \"KOBL\",\n",
    "    \"KTCH\",\n",
    "    \"LESS\",\n",
    "    \"LSRL\",\n",
    "    \"MUS\",\n",
    "    \"RAMY\",\n",
    "    \"SEEC\",\n",
    "    \"SEEL\",\n",
    "    \"SPSC\",\n",
    "    \"UMC\",\n",
    "    \"URES\",\n",
    "    \"VAC\",\n",
    "    \"WLAW\",\n",
    "    \"WVC\",\n",
    "    \"WVRC\",\n",
    "]\n",
    "\n",
    "num_of_buildings_residential = len(residential_buildings)\n",
    "print(\n",
    "    f\"There are {num_of_buildings_residential} buildings in the residential buildings list.\"\n",
    ")\n",
    "\n",
    "num_of_buildings_community = len(community_building_list)\n",
    "print(\n",
    "    f\"There are {num_of_buildings_community} buildings in the community buildings list.\"\n",
    ")\n",
    "\n",
    "num_of_buildings_class = len(class_building_list)\n",
    "print(f\"There are {num_of_buildings_class} buildings in the class buildings list.\")\n",
    "\n",
    "total_num_of_buildings = (\n",
    "    num_of_buildings_residential + num_of_buildings_community + num_of_buildings_class\n",
    ")\n",
    "print(f\"There are {total_num_of_buildings} buildings in total.\")"
   ]
  },
  {
   "cell_type": "code",
   "execution_count": 2,
   "metadata": {},
   "outputs": [],
   "source": [
    "# Section\n",
    "\n",
    "engineering_building_list = [\n",
    "    \"ECAD\",\n",
    "    \"ECCE\",\n",
    "    \"ECCR\",\n",
    "    \"ECEE\",\n",
    "    \"ECES\",\n",
    "    \"ECME\",\n",
    "    \"ECON\",\n",
    "    \"ECOT\",\n",
    "    \"ECST\",\n",
    "]\n",
    "\n",
    "midcampus_building_list = [\n",
    "    \"AERO\",\n",
    "    \"SPSC\",\n",
    "    \"LESS\",\n",
    "    \"LSRL\",\n",
    "]\n",
    "\n",
    "eastcampus_building_list = [\n",
    "    \"AERO\",\n",
    "    \"SPSC\",\n",
    "    \"LESS\",\n",
    "    \"LSRL\",\n",
    "]\n",
    "\n",
    "willvill_building_list = [\"WLAW\", \"WVC\", \"WVRC\"]\n",
    "\n",
    "south_building_list = [\n",
    "    \"ALMG\",\n",
    "    \"ARNT\",\n",
    "    \"ATLS\",\n",
    "    \"BIOT\",\n",
    "    \"CARL\",\n",
    "    \"CASA\",\n",
    "    \"CASE\",\n",
    "    \"CHMP\",\n",
    "    \"DACR\",\n",
    "    \"DACR\",\n",
    "    \"DALW\",\n",
    "    \"DLC\",\n",
    "    \"DUAN\",\n",
    "    \"EDEP\",\n",
    "    \"EHSC\",\n",
    "    \"EKLC\",\n",
    "    \"ENVD\",\n",
    "    \"GOLD\",\n",
    "    \"GUGG\",\n",
    "    \"HEND\",\n",
    "    \"ITLL\",\n",
    "    \"KOBL\",\n",
    "    \"KTCH\",\n",
    "    \"MUS\",\n",
    "    \"RAMY\",\n",
    "    \"SEEC\",\n",
    "    \"SEEL\",\n",
    "    \"UMC\",\n",
    "    \"URES\",\n",
    "    \"VAC\",\n",
    "    \"WLAW\",\n",
    "    \"WVC\",\n",
    "    \"WVRC\",\n",
    "]"
   ]
  },
  {
   "cell_type": "markdown",
   "metadata": {},
   "source": [
    "\n",
    "## Module 1: Processing\n",
    "\n",
    "---\n",
    "\n",
    "### Overview\n",
    "\n",
    "The module includes two main classes:\n",
    "\n",
    "1. `DataReader`: This class is responsible for reading and interpolating time series data from a CSV file. It is initialized with parameters that include the file path, start and end dates for the data to be considered, and the frequency at which to sample data.\n",
    "\n",
    "2. `BuildingProcessor`: This class processes building data. It can process data for a specific building or for all buildings. It is initialized with parameters that include a `DataReader` object, building ID, CPU cores to use, and a boolean indicating whether to record time or check sparsity.\n",
    "\n",
    "Other parameters can be set, such as the data directory, date range, building ID, CPU cores, and sampling frequency. The option to record the total execution time for performance testing, and to calculate the sparsity of the data.\n",
    "\n",
    "---\n",
    "\n",
    "### Importing the class\n",
    "\n",
    "To use the classes in this module, the Python Code must be imported from the source code directory. From `~/src/python/processor/data_processor`, import `DataReader` and `BuildingProcessor`, then both of the classes can be used."
   ]
  },
  {
   "cell_type": "code",
   "execution_count": 1,
   "metadata": {},
   "outputs": [],
   "source": [
    "from src.python.processor.data_processor import DataReader, BuildingProcessor"
   ]
  },
  {
   "cell_type": "markdown",
   "metadata": {},
   "source": [
    "\n",
    "### Select a date range\n",
    "\n",
    "The `DataReader` class requires a date range to be passed. There is no reason to complicate this process - a well-known module, `datetime`, is used and the format is left as-is. Similar to the procedure used above, import the `datetime` class from the `datetime` module, then create two variables for the start and end dates you want to pass through the `DataReader` class.\n",
    "\n",
    "Note that the format should be:\n",
    "\n",
    "```python\n",
    "datetime(2019,9,1)\n",
    "```\n"
   ]
  },
  {
   "cell_type": "code",
   "execution_count": null,
   "metadata": {},
   "outputs": [],
   "source": [
    "from datetime import datetime\n",
    "\n",
    "start_date  = datetime(2019, 9, 1)\n",
    "end_date    = datetime(2019, 10, 1)"
   ]
  },
  {
   "cell_type": "markdown",
   "metadata": {},
   "source": [
    "\n",
    "### Using the objects\n",
    "\n",
    "Now, we want to create an instance of the `data_reader` method within the `DataReader` class using the date range defined by the variables above. By doing this, we are reading the CSV files, then interpolating from the start date to the end date. The interpolated data is represented by the object called `data_reader`, which is passed through the `BuildingProcessor` class to create the `processor` object. These objects are like maps that point to the correct variation of the information we wish to use for our data analysis. \n",
    "\n",
    "While it might seem confusing, the convenience of doing this is that we can now call the `process_all_buildings` method in a single line, defining it as `network_data`. This is applying the interpolated date range to each of the buildings in parallel and storing a ton of information in a convenient dictionary format."
   ]
  },
  {
   "cell_type": "code",
   "execution_count": null,
   "metadata": {},
   "outputs": [
    {
     "data": {
      "image/png": "[encoded data removed]",
      "text/plain": [
       "<Figure size 640x480 with 1 Axes>"
      ]
     },
     "metadata": {},
     "output_type": "display_data"
    },
    {
     "name": "stdout",
     "output_type": "stream",
     "text": [
      "16.551 seconds using 10 CPU cores\n"
     ]
    }
   ],
   "source": [
    "data_reader     = DataReader(start_date=start_date, end_date=end_date)\n",
    "processor       = BuildingProcessor(data_reader)\n",
    "network_data    = processor.process_all_buildings()"
   ]
  },
  {
   "cell_type": "markdown",
   "metadata": {},
   "source": [
    "\n",
    "Again, we have one variable, `network_data`, with the data structure of a nested dictionary. In the next section, we are going to peel away at the layers of the nested format. \n",
    "\n",
    "### Printing the data\n",
    "\n",
    "The outer dictionary has keys `Eduroam`, `UCBGuest`, and `UCBWireless`. Each of these keys maps to another dictionary, which in then maps to a Pandas DataFrame."
   ]
  },
  {
   "cell_type": "code",
   "execution_count": null,
   "metadata": {},
   "outputs": [
    {
     "name": "stdout",
     "output_type": "stream",
     "text": [
      "\n",
      "Available Network Options and total building data available:\n",
      "\n",
      "\tEduroam: \t (Total Buildings: 77)\n",
      "\tUCBGuest: \t (Total Buildings: 77)\n",
      "\tUCBWireless: \t (Total Buildings: 77)\n",
      "\tSum: \t (Total Buildings: 77)\n",
      "\tType: \t (Total Buildings: 3)\n",
      "\tCampus: \t (Total Buildings: 2)\n",
      "\tAverage: \t (Total Buildings: 3)\n"
     ]
    }
   ],
   "source": [
    "outer_keys = list(network_data.keys())\n",
    "\n",
    "print(\"\\nAvailable Network Options and total building data available:\\n\")\n",
    "\n",
    "for index, outer_key in enumerate(outer_keys, start=1):\n",
    "    inner_keys = list(network_data[outer_key].keys())\n",
    "    print(f\"\\t{outer_key}: \\t (Total Buildings: {len(inner_keys)})\")"
   ]
  },
  {
   "cell_type": "markdown",
   "metadata": {},
   "source": [
    "The output shows that `network_data` is a dictionary with 4 keys printed above and how many buildings there is data for. For one of the 4 keys, there are 77 buildings, a sample of 3 buildings and the first 3 rows of data look like this:"
   ]
  },
  {
   "cell_type": "code",
   "execution_count": null,
   "metadata": {},
   "outputs": [
    {
     "name": "stdout",
     "output_type": "stream",
     "text": [
      "\n",
      "For each Network Option, the building data looks like:\n",
      "\n",
      "1. ATLS\n",
      "             datetime  devicecount\n",
      "0 2019-09-01 00:03:32     0.854531\n",
      "1 2019-09-01 00:04:32     0.858438\n",
      "2 2019-09-01 00:05:32     0.862306\n",
      "\n",
      "2. UMC\n",
      "             datetime  devicecount\n",
      "0 2019-09-01 00:03:32     3.678611\n",
      "1 2019-09-01 00:04:32     3.538488\n",
      "2 2019-09-01 00:05:32     3.428862\n",
      "\n",
      "3. DLC\n",
      "             datetime  devicecount\n",
      "0 2019-09-01 00:03:32     1.814027\n",
      "1 2019-09-01 00:04:32     1.943510\n",
      "2 2019-09-01 00:05:32     2.061522\n"
     ]
    }
   ],
   "source": [
    "print(\"\\nFor each Network Option, the building data looks like:\")\n",
    "\n",
    "count = 0\n",
    "for outer_key in outer_keys:\n",
    "    inner_keys = list(network_data[outer_key].keys())\n",
    "    for location in inner_keys:\n",
    "        count += 1\n",
    "        if count > 3:\n",
    "            break\n",
    "        print(f\"\\n{count}. {location}\")\n",
    "        print(network_data[outer_key][location].head(3))\n",
    "    if count > 3:\n",
    "        break"
   ]
  },
  {
   "cell_type": "markdown",
   "metadata": {},
   "source": [
    "To access data in this nested structure, you would first call the outer dictionary with the desired key, then call the inner dictionary with its key, and finally access the DataFrame.\n",
    "\n",
    "#### Example"
   ]
  },
  {
   "cell_type": "code",
   "execution_count": null,
   "metadata": {},
   "outputs": [
    {
     "name": "stdout",
     "output_type": "stream",
     "text": [
      "Number of network options: 7\n",
      "\n",
      "Number of building options: 77\n"
     ]
    }
   ],
   "source": [
    "print(f\"Number of network options: {len(network_data)}\\n\")\n",
    "\n",
    "data = network_data[\"Eduroam\"]\n",
    "\n",
    "print(f\"Number of building options: {len(data)}\")"
   ]
  },
  {
   "cell_type": "code",
   "execution_count": null,
   "metadata": {},
   "outputs": [
    {
     "name": "stdout",
     "output_type": "stream",
     "text": [
      "\n",
      "Accessing 'AERO' under 'Eduroam':\n",
      "\n",
      "             datetime  devicecount\n",
      "0 2019-09-01 00:03:32     3.026070\n",
      "1 2019-09-01 00:04:32     3.027370\n",
      "2 2019-09-01 00:05:32     3.028653\n"
     ]
    }
   ],
   "source": [
    "print(\"\\nAccessing 'AERO' under 'Eduroam':\\n\")\n",
    "print(data[\"AERO\"].head(3))"
   ]
  },
  {
   "cell_type": "markdown",
   "metadata": {},
   "source": [
    "4. Call both columns of data for the Aerospace building like this:"
   ]
  },
  {
   "cell_type": "code",
   "execution_count": null,
   "metadata": {},
   "outputs": [
    {
     "name": "stdout",
     "output_type": "stream",
     "text": [
      "\n",
      "Accessing 'datetime' under 'AERO' in 'Eduroam':\n",
      "\n",
      "0   2019-09-01 00:03:32\n",
      "1   2019-09-01 00:04:32\n",
      "2   2019-09-01 00:05:32\n",
      "Name: datetime, dtype: datetime64[ns]\n"
     ]
    }
   ],
   "source": [
    "print(\"\\nAccessing 'datetime' under 'AERO' in 'Eduroam':\\n\")\n",
    "print(data[\"AERO\"][\"datetime\"].head(3))"
   ]
  },
  {
   "cell_type": "code",
   "execution_count": null,
   "metadata": {},
   "outputs": [
    {
     "name": "stdout",
     "output_type": "stream",
     "text": [
      "\n",
      "Accessing 'devicecount' under 'ATLS' in 'Eduroam':\n",
      "\n",
      "0    0.854531\n",
      "1    0.858438\n",
      "2    0.862306\n",
      "Name: devicecount, dtype: float64\n"
     ]
    }
   ],
   "source": [
    "print(\"\\nAccessing 'devicecount' under 'ATLS' in 'Eduroam':\\n\")\n",
    "print(data[\"ATLS\"][\"devicecount\"].head(3))"
   ]
  },
  {
   "cell_type": "markdown",
   "metadata": {},
   "source": [
    "\n",
    "### Optional Parameters\n",
    "\n",
    "The simplest use of the `DataProcessor` class is to pass no values, which is shown above. The following section demonstrates options for improving performance of the processing procedure and initialization of several parameters.\n",
    "\n",
    "---\n",
    "**Parameter List**\n",
    "\n",
    "1. `start_date` and `end_date`: The start and end dates for data processing.\n",
    "2. `building_id`: A building ID for processing data related to a specific building.\n",
    "3. `cpu_cores`: The number of CPU cores to use for parallel processing. The maximum value should not exceed the total number of CPU cores available on your machine.\n",
    "4. `sample_freq`: The time (in minutes) between each interpolated point.\n",
    "5. `record_time=True`: For performance testing only. If not set to `True`, the default behavior is...\n",
    "\n",
    "---"
   ]
  },
  {
   "cell_type": "markdown",
   "metadata": {},
   "source": [
    "First, create a dictionary of all network data:"
   ]
  },
  {
   "cell_type": "code",
   "execution_count": 14,
   "metadata": {},
   "outputs": [
    {
     "data": {
      "image/png": "[encoded data removed]",
      "text/plain": [
       "<Figure size 640x480 with 1 Axes>"
      ]
     },
     "metadata": {},
     "output_type": "display_data"
    },
    {
     "name": "stdout",
     "output_type": "stream",
     "text": [
      "15.897 seconds using 10 CPU cores\n"
     ]
    }
   ],
   "source": [
    "processor = BuildingProcessor(data_reader)\n",
    "network_data = processor.process_all_buildings()"
   ]
  },
  {
   "cell_type": "markdown",
   "metadata": {},
   "source": [
    "Set `cpu_cores` based on the available cores on your machine for optimal performance."
   ]
  },
  {
   "cell_type": "code",
   "execution_count": null,
   "metadata": {},
   "outputs": [],
   "source": [
    "processor = BuildingProcessor(data_reader, cpu_cores=10)\n",
    "network_data = processor.process_all_buildings()"
   ]
  },
  {
   "cell_type": "code",
   "execution_count": null,
   "metadata": {},
   "outputs": [],
   "source": [
    "processor = BuildingProcessor(data_reader, cpu_cores=1)\n",
    "network_data = processor.process_all_buildings()"
   ]
  },
  {
   "cell_type": "markdown",
   "metadata": {},
   "source": [
    "Set `sample_freq` if you want to interpolate between points at an interval that is different than `3Min`."
   ]
  },
  {
   "cell_type": "markdown",
   "metadata": {},
   "source": [
    "data_reader = DataReader(sample_freq=\"5Min\")\n",
    "processor = BuildingProcessor(data_reader)\n",
    "\n",
    "network_data_frequency = processor.process_all_buildings()\n",
    "data_frequency = network_data_frequency[\"Eduroam\"]\n",
    "\n",
    "print()\n",
    "print(data_frequency[\"ATLS\"].head(3))"
   ]
  },
  {
   "cell_type": "markdown",
   "metadata": {},
   "source": [
    "data_reader = DataReader(sample_freq=\"2Min\")\n",
    "processor = BuildingProcessor(data_reader)\n",
    "\n",
    "network_data_frequency = processor.process_all_buildings()\n",
    "data_frequency = network_data_frequency[\"Sum\"]\n",
    "\n",
    "print()\n",
    "print(data_frequency[\"ATLS\"].head(3))"
   ]
  },
  {
   "cell_type": "markdown",
   "metadata": {},
   "source": [
    "5. The `record_time` parameter is for performance testing using in the next section."
   ]
  },
  {
   "cell_type": "markdown",
   "metadata": {},
   "source": [
    "## Class: SpeedTest\n",
    "\n",
    "This `DataProcessor` module also contains the `SpeedTest` class, which is designed to measure and visualize the performance of the processing procedure shown in this notebook. The `SpeedTest` class is primarily used to record the time taken to process data using different numbers of CPU cores and interpolation between several different sample frequencies. It demonstrates the performance improvement gained by implementing a parallel processing strategy.\n",
    "\n",
    "The class runs the procedure for core, a defined amount of CPU cores. In this case, `cpu_cores = [ 1,  3,  5,  7,  8 ]`, since my computer has 10 cores. I was originally ranging from 1 to the maximum number of CPU cores available (10), but was seeing a longer run time on 10 cores compared to 8 cores. This turned out to be because the Apple M1 Pro has 8 \"performance\" cores and 2 \"efficiency \" cores. There isn't much information on the difference between these processors. The execution is performed for interpolation between points with each of the following sample frequencies: `['15Min','10Min','5Min','2Min']`.\n",
    "\n",
    "The total time taken for each run is recorded into a Python dictionary and then plotted. This provides a visual representation of the performance increase when using multiple CPU cores. The time data is also converted to a Pandas DataFrame before being returned by the function.\n",
    "\n",
    "### Usage\n",
    "\n",
    "Here's an example of how to use the `SpeedTest` class to measure the execution time of the `DataProcessor` class with varying numbers of CPU cores and sample frequencies:"
   ]
  },
  {
   "cell_type": "code",
   "execution_count": null,
   "metadata": {},
   "outputs": [],
   "source": [
    "from src.python.processor.data_processor import SpeedTest\n",
    "\n",
    "# config1\n",
    "# cpu_cores = [1, 2, 3, 4, 5, 6, 7, 8]\n",
    "# sample_freqs = [\"15Min\", \"10Min\", \"6Min\", \"2Min\", \"1Min\"]\n",
    "\n",
    "# config2 (quicker run-time)\n",
    "# cpu_cores = [1, 3, 5, 8]\n",
    "# cpu_cores = [10]\n",
    "# sample_freqs = [\"20Min\"]\n",
    "# sample_freqs = [\"10Min\", \"6Min\", \"2Min\"]\n",
    "\n",
    "# speed_test = SpeedTest(cpu_cores, sample_freqs)\n",
    "\n",
    "# speed_test.run()\n",
    "# speed_test.plot_results()"
   ]
  },
  {
   "cell_type": "markdown",
   "metadata": {},
   "source": [
    "In this example, the `BuildingProcessor` is initialized with a `DataReader` object, the number of CPU cores to use, and the `record_time` parameter set to `True`. The `process_all_buildings` method is then called to process the data and measure the execution time. The results are stored in the `time_results` dictionary and plotted using matplotlib.\n",
    "\n",
    "### Result\n",
    "\n",
    "The processing of data interpolation for 144 points across 77 buildings was significantly expedited by utilizing all 10 cores on a Apple M1 Pro with a 10-core processor and 32 gb of unified memory. The time required for this operation was reduced from 5.2 seconds to 1.3 seconds, demonstrating the efficiency of parallel processing independent CSV files, but it isn't a massive jump in performance. This improvement in performance uses a straightforward strategy where each processing unit operates on a `.csv` file independently, as the memory does not depend on each other. By default, the system will utilize the maximum number of CPU cores available. However, if any issues arise, one can manually set `cpu_cores = 1` to only execute one process at a time.\n",
    "\n",
    "### Future Work\n",
    "\n",
    "This notebook presents a speed-up for the processing procedure on my laptop. Running this on an HPC cluster would increase the performance but would not be needed until there was significantly more data to interpolate and load."
   ]
  },
  {
   "cell_type": "markdown",
   "metadata": {},
   "source": [
    "# Module 2: Time-Series Visualization with Python\n",
    "\n",
    "This Jupyter notebook demonstrates the use of a comprehensive data visualization tool designed to plot data related to device counts over time across different networks in a university setting. The tool is implemented as a Python module that imports various libraries for data manipulation, visualization, multiprocessing, and more.\n",
    "\n",
    "## The `DataVisualization` Module.\n",
    "\n",
    "The module contains the classes:\n",
    "\n",
    "1. `DataVisualizer`: This class fetches and processes the data, creates the plots, and saves them. It takes in parameters such as the interval of time, output_path, and the optional parameters: normalize and show_plot. The main function of this class is to plot events on time series data.\n",
    "\n",
    "2. `MultiPlotter`: This classes function is to plot multiple buildings concurrently using multiprocessing. The parameters building_list, index_values can be changed and two optional parameters: events and n_jobs can be set buy the user. The method `plot` makes runs a script that generates and saves the time series plots locally for all the buildings.\n",
    "\n",
    "3. `CampusPlotter`: This class is used to plot data for the sum of all buildings on campus. It takes in parameters to choose whether the plot should be shown or if the data should be normalized before plotted.\n",
    "\n",
    "\n",
    "The module also contains helper functions and constants for file paths and directories. It uses multiprocessing to speed up the plotting process and matplotlib for creating the plots. The plots are saved as .png files in specified directories. The module also handles exceptions and errors during the data fetching, processing, and plotting stages. It uses pandas for data manipulation, matplotlib for plotting, and sklearn for normalization of data. It also handles exceptions and errors during the data fetching, processing, and plotting stages.\n",
    "\n",
    "## Example.\n",
    "\n",
    "### IMPORTING THE MODULE \n",
    "\n",
    "To visualize the data, import the `DataProcessor` and `DataVisualizer` modules from this projects library. To summarize, it reads and processes the CU Boulder Wireless Network Information stored as CSV files into a Python dictionary. The date range is set one time for all plots in this Notebook by passing the `datetime` objects as `start_date` and `end_date` parameters in the `DataReader` class. "
   ]
  },
  {
   "cell_type": "code",
   "execution_count": 17,
   "metadata": {},
   "outputs": [],
   "source": [
    "from src.python.time_series.creator import VisualizerCreator"
   ]
  },
  {
   "cell_type": "code",
   "execution_count": 18,
   "metadata": {},
   "outputs": [],
   "source": [
    "from src.python.processor.data_processor import DataReader\n",
    "\n",
    "from datetime import datetime\n",
    "\n",
    "start_date = datetime(2019, 11, 2)\n",
    "end_date = datetime(2019, 12, 2)\n",
    "data_reader = DataReader(start_date=start_date, end_date=end_date)"
   ]
  },
  {
   "cell_type": "markdown",
   "metadata": {},
   "source": [
    "\n",
    "### INITIALIZING OBJECTS\n",
    "\n",
    "Since there are 77 buildings in the dataset, they can be summed to create one line. The column vector has the same sample spacing as the plots above and the time series of the campus-level view.\n",
    "\n",
    "All of this is managed by the `VisualizerCreator` class. This class will take a start and end date as parameters in the format YYYY-MM-DD (Example: \"2019-09-10\") and takes care of all the other formatting needed to create 3 different plots for each of the 77 buildings and 3 plots for the campus level view."
   ]
  },
  {
   "cell_type": "code",
   "execution_count": null,
   "metadata": {},
   "outputs": [],
   "source": [
    "from src.python.time_series.creator import VisualizerCreator\n",
    "\n",
    "start_date = \"2019-10-1\"\n",
    "end_date = \"2019-10-31\"\n",
    "\n",
    "try:\n",
    "    creator = VisualizerCreator(start_date, end_date)\n",
    "    visualizers = creator.create_visualizers()\n",
    "    campus_plotters = creator.create_campus_plotters()\n",
    "except Exception as e:\n",
    "    print(f\"An error occurred: {e}\")\n",
    "else:\n",
    "    (\n",
    "        chunks,\n",
    "        networks,\n",
    "        normalized,\n",
    "        normalized_chunks,\n",
    "        two_networks_chunks,\n",
    "        two_networks,\n",
    "    ) = visualizers.values()\n",
    "    (\n",
    "        campus_plotter1,\n",
    "        campus_plotter2,\n",
    "        campus_plotter_normalized,\n",
    "        dorm_average,\n",
    "        general_average,\n",
    "        community_average,\n",
    "    ) = campus_plotters.values()\n",
    "\n",
    "\n",
    "def time_series_plotter(name):\n",
    "    networks.plot_single(name)\n",
    "    chunks.plot_single(name)\n",
    "    two_networks.plot_single(name)\n",
    "    two_networks_chunks.plot_single(name)\n",
    "    normalized.plot_single(name)\n",
    "    normalized_chunks.plot_single(name)\n",
    "\n",
    "\n",
    "def campus_plotters():\n",
    "    campus_plotter1.plot_data()\n",
    "    campus_plotter2.plot_data()\n",
    "    campus_plotter_normalized.plot_data()\n",
    "    campus_plotter_normalized.plot_phase_space()\n",
    "    dorm_average.plot_data()\n",
    "    general_average.plot_data()\n",
    "    community_average.plot_data()"
   ]
  },
  {
   "cell_type": "markdown",
   "metadata": {},
   "source": [
    "Now that an instance of this class has been created, we have an object we can do stuff with. Naturally, plotting is the first step in order to visualize the data. \n",
    "\n",
    "We import the `DataVisualization` module, which is where the code is stored as classes. The `DataVisualizer` class can be used to create another abstract object called `visualizer` by sending the `data_processor` object though the class. The `DataVisualizer` class uses a method called `__init__` to initializes the class with several parameters including `data_processor`, `data_reader`, `intervals`, `output_path`, `normalize`, and `show_plot`. It also sets up some default values and lists of buildings categorized by their location on campus for sorting these plots in the output directory (instead of dumping 77 plots in one folder).\n",
    "\n",
    "### CHOOSE A BUILDING TO PLOT DATA FOR\n",
    "\n",
    "A list of buildings can be passed and each will be plotted and shown, but that's a lot of plotting on one page. It's easier to just define `name` as another building, then run everything after this point.\n",
    "\n",
    "For the three building-level plots, we can:\n",
    "\n",
    "1. Plot all three networks on one plot\n",
    "\n",
    "2. Slice the three networks into 5 chunks, shown in one large figure of subplots\n",
    "\n",
    "3. Plot the normalized network aggregate (sum of the three networks shown in 1. and 2.)\n",
    "\n",
    "```python\n",
    "name = \"WLAW\"\n",
    "```"
   ]
  },
  {
   "cell_type": "code",
   "execution_count": null,
   "metadata": {},
   "outputs": [],
   "source": [
    "name = \"WLAW\"\n",
    "\n",
    "networks.plot_single(name)\n",
    "chunks.plot_single(name)"
   ]
  },
  {
   "cell_type": "markdown",
   "metadata": {},
   "source": [
    "\n",
    "## Plotting a single building.\n",
    "\n",
    "We have specified a date range, have read the data on that range, and it was stored as a  dictionary above. All we have to do is call the plotting method `plot_data` along with the specific instance created above, and we create a plot showing the time series plot of the device count on campus during the specified date range. The `plot_single` method uses all the above methods to fetch data, create a plot, plot the data and events, and save the plot. It also handles normalization of data if required.\n",
    "\n",
    "In the next section, a big time series plot that splits a date range into (connected) chunks and can be built for each building we have data for. Recall that there are 77 buildings and a list was given at the top of the page. Events are stored in a dictionary and imported directly into the class by default and a parameter can be passed to turn this feature off. A few sample events are plotted as grey boxes on the following building plots. These plots can be made smaller and the \"chunking\" method can be set to anything, even 1, but these are made to display as much of the data as possible in an easy, interpretable format for data exploration.\n",
    "\n",
    "### SPLITTING THE PLOT INTO CHUNKS"
   ]
  },
  {
   "cell_type": "markdown",
   "metadata": {},
   "source": [
    "# \"URES\", ... No data\n",
    "# \"ARNT\", ... No data\n",
    "# \"WVC\", ... does not look like dorm\n",
    "# \"WVRC\", ... check again\n",
    "\n",
    "residential_buildings = [\n",
    "    \"ADEN\",\n",
    "    \"ANDS\",\n",
    "    \"BCAPA\",\n",
    "    \"BCAPB\",\n",
    "    \"BRKT\",\n",
    "    \"BUCK\",\n",
    "    \"CHEY\",\n",
    "    \"CROS\",\n",
    "    \"CKRL\",\n",
    "    \"FRND\",\n",
    "    \"HLET\",\n",
    "    \"DLYT\",\n",
    "    \"HLMS\",\n",
    "    \"LIBY\",\n",
    "    \"REED\",\n",
    "    \"SMTH\",\n",
    "    \"STRN\",\n",
    "    \"SWLL\",\n",
    "    \"WLRD\",\n",
    "    \"WVE\",\n",
    "    \"WVN\",\n",
    "    \"arnt\",\n",
    "    \"bker\",\n",
    "    \"kcen\",\n",
    "    \"kitw\",\n",
    "]\n",
    "\n",
    "community_buildings = [\n",
    "    \"ALUM\",\n",
    "    \"C4C\",\n",
    "    \"LIBR\",\n",
    "    \"REC\",\n",
    "    \"STAD\",\n",
    "    \"STSB\",\n",
    "    \"STTB\",\n",
    "]\n",
    "\n",
    "admin_buildings = [\n",
    "    \"AERO\",\n",
    "    \"ALMG\",\n",
    "    \"ARNT\",\n",
    "    \"ATLS\",\n",
    "    \"BIOT\",\n",
    "    \"CARL\",\n",
    "    \"CASA\",\n",
    "    \"CASE\",\n",
    "    \"CHMP\",\n",
    "    \"DACR\",\n",
    "    \"DALW\",\n",
    "    \"DLC\",\n",
    "    \"DUAN\",\n",
    "    \"ECAD\",\n",
    "    \"ECCE\",\n",
    "    \"ECCR\",\n",
    "    \"ECEE\",\n",
    "    \"ECES\",\n",
    "    \"ECME\",\n",
    "    \"ECON\",\n",
    "    \"ECOT\",\n",
    "    \"ECST\",\n",
    "    \"EDEP\",\n",
    "    \"EHSC\",\n",
    "    \"EKLC\",\n",
    "    \"ENVD\",\n",
    "    \"GOLD\",\n",
    "    \"GUGG\",\n",
    "    \"HEND\",\n",
    "    \"ITLL\",\n",
    "    \"KOBL\",\n",
    "    \"KTCH\",\n",
    "    \"LESS\",\n",
    "    \"LSRL\",\n",
    "    \"MUS\",\n",
    "    \"RAMY\",\n",
    "    \"SEEC\",\n",
    "    \"SEEL\",\n",
    "    \"SPSC\",\n",
    "    \"UMC\",\n",
    "    \"URES\",\n",
    "    \"VAC\",\n",
    "    \"WLAW\",\n",
    "    \"WVC\",\n",
    "    \"WVRC\",\n",
    "]\n",
    "\n",
    "for names in community_buildings:\n",
    "    time_series_plotter(names)"
   ]
  },
  {
   "cell_type": "markdown",
   "metadata": {},
   "source": [
    "\n",
    "### NETWORK AGGREGATE AND NORMALIZATION\n",
    "\n",
    "Now, we use the same method used above and will see the data is now normalized and lives between $0$ and $1$. This is helpful for computation we want to do with the objects."
   ]
  },
  {
   "cell_type": "code",
   "execution_count": null,
   "metadata": {},
   "outputs": [],
   "source": [
    "normalized.plot_single(name)\n",
    "normalized_chunks.plot_single(name)"
   ]
  },
  {
   "cell_type": "markdown",
   "metadata": {},
   "source": [
    "\n",
    "## Plotting Campus Data.\n",
    "\n",
    "We need to create a new `CampusPlotter` object where the data is normalized. Do this passing `normalize = True` as a parameter with the same data object used in the plot above.\n",
    "\n",
    "### BUILDING AGGREGATE & NORMALIZATION OF THE BUILDING AGGREGATE"
   ]
  },
  {
   "cell_type": "code",
   "execution_count": null,
   "metadata": {},
   "outputs": [],
   "source": [
    "from src.python.time_series.creator import VisualizerCreator\n",
    "\n",
    "start_date = \"2019-10-1\"\n",
    "end_date = \"2020-1-1\"\n",
    "\n",
    "try:\n",
    "    creator = VisualizerCreator(start_date, end_date)\n",
    "    campus_plotters = creator.create_campus_plotters()\n",
    "except Exception as e:\n",
    "    print(f\"An error occurred: {e}\")\n",
    "else:\n",
    "    (\n",
    "        campus_plotter1,\n",
    "        campus_plotter2,\n",
    "        campus_plotter_normalized,\n",
    "        dorm_average,\n",
    "        general_average,\n",
    "        community_average,\n",
    "    ) = campus_plotters.values()\n",
    "\n",
    "\n",
    "def campus_plotters():\n",
    "    campus_plotter1.plot_data()\n",
    "    campus_plotter2.plot_data()\n",
    "    campus_plotter_normalized.plot_data()\n",
    "    campus_plotter_normalized.plot_phase_space()\n",
    "    dorm_average.plot_data()\n",
    "    general_average.plot_data()\n",
    "    community_average.plot_data()"
   ]
  },
  {
   "cell_type": "code",
   "execution_count": null,
   "metadata": {},
   "outputs": [],
   "source": [
    "campus_plotters()"
   ]
  },
  {
   "cell_type": "code",
   "execution_count": null,
   "metadata": {},
   "outputs": [],
   "source": [
    "dorm_average.plot_data()\n",
    "general_average.plot_data()\n",
    "community_average.plot_data()"
   ]
  },
  {
   "cell_type": "markdown",
   "metadata": {},
   "source": [
    "\n",
    "## Plotting All Buildings Using Parallel Processing.\n",
    "\n",
    "A list of the buildings that will be processed, plotted, and saved, then the building name of each is printed after it is saved and before the figure is closed to let the user know the path to it's location. The path can be clicked on and the `.png` file will open in another window.\n",
    "\n",
    "The code to run this process is provided here:\n",
    "\n",
    "```python\n",
    "\n",
    "visualizer = DataVisualizer(data_processor)\n",
    "multi_plotter = MultiPlotter(visualizer)\n",
    "\n",
    "multi_plotter.plot()\n",
    "```"
   ]
  },
  {
   "cell_type": "markdown",
   "metadata": {},
   "source": [
    "\n",
    "### SPEED-UP ANALYSIS\n",
    "\n",
    "Analysis of time spend processing the data in parallel, then plotting the time series plots for 4 networks in parallel using 10 CPU cores on my Apple M1 Pro is left to future work. It would probably take most people longer to process 1 plot on 1 core than my computer processes and plots all 77. The processing speed isn't too important when plotting these time-series plots on one page. "
   ]
  },
  {
   "cell_type": "markdown",
   "metadata": {},
   "source": [
    "\n",
    "## Plotting the Phase Space.\n",
    "\n",
    "The next step in this project is to work on this phase space plot. I have run this code on normalized data and not normalized data for all of campus. Sometimes it looks like a little spiral or circle, usually for the entire campus. A phase space plot forms a diagonal line from 0 to 1 suggests the system has a linear relationship between the state of the system at time $t_1$ and time $t_2$. The slope of the line would be positive when the device count was increasing, it indicates that the number of devices is increasing; if the slope is negative, it indicates that the number of devices is decreasing. This phase space plot only shows the relationship between the state of the system at two consecutive time points, and does not capture the full dynamics of the system. This still in progress..."
   ]
  },
  {
   "cell_type": "markdown",
   "metadata": {},
   "source": [
    "\n",
    "## Sparsity\n",
    "\n",
    "Sparsity is a concept that refers to matrices or vectors that are comprised mostly of zero values. The sparsity of a matrix can be quantified with a score, which is the number of zero values in the matrix divided by the total number of elements in the matrix.\n",
    "\n",
    "A vector is said to be $k$-sparse if exactly $k$ values are non-zero. A matrix is considered sparse if most of the elements are zero. There is no strict definition regarding the proportion of zero-value elements for a matrix to qualify as sparse but a common criterion is that the number of non-zero elements is roughly equal to the number of rows or columns.\n",
    "\n",
    "More precisely, if $A$ is a matrix of size $m \\times n$ and $Z$ is the number of zero elements in $A$, then the sparsity $S$ is given by:\n",
    "\n",
    "$$\n",
    "S = Z / (m * n)\n",
    "$$\n",
    "\n",
    "This implies that a higher sparsity value indicates that the matrix has more zero elements, while a lower sparsity value indicates fewer zero elements.\n",
    "\n",
    "To calculate the sparsity of a matrix in Python, you can count the number of non-zero elements and divide by the total size of the matrix:"
   ]
  },
  {
   "cell_type": "code",
   "execution_count": 25,
   "metadata": {},
   "outputs": [],
   "source": [
    "import numpy as np\n",
    "\n",
    "\n",
    "def calculate_sparsity(A):\n",
    "    sparsity = (A.size - np.count_nonzero(A)) / float(A.size)\n",
    "    return sparsity"
   ]
  },
  {
   "cell_type": "markdown",
   "metadata": {},
   "source": [
    "The concept of sparsity is important because it can lead to computational savings. Many large matrix problems that occur in data science practice are sparse. Sparse matrices require less memory to store because the zero elements do not need to be stored. We can take advantage of computational operations can skip the zero elements, leading to faster computations \n",
    "\n",
    "## Density\n",
    "\n",
    "The sparsity of a matrix is defined as the number of zero-valued elements divided by the total number of elements. Conversely, the density of a matrix is defined as the number of non-zero elements divided by the total number of elements. Therefore, you can see how the sparsity and density of a matrix are directly related. Specifically, the sparsity of a matrix is equal to 1 minus its density.\n",
    "\n",
    "To compute this:"
   ]
  },
  {
   "cell_type": "markdown",
   "metadata": {},
   "source": [
    "## What can we do with this?"
   ]
  },
  {
   "cell_type": "markdown",
   "metadata": {},
   "source": [
    "The result above is a measure of how many the samples in each building's dataset is zero. A high sparsity score would indicate that there are many time points where no devices were connected to the WiFi network in a particular building.\n",
    "\n",
    "If the sparsity parameter is set to True, then the returned dictionary has four keys:\n",
    "\n",
    "- `building name`\n",
    "\n",
    "- `total_elements`: This is the total number of data points in the dataset for a particular building. Each data point represents the number of devices connected to the WiFi network at a specific time.\n",
    "\n",
    "- `zero_elements`: This is the number of data points in the dataset for a particular building where the device count is zero. In other words, these are the time points where no devices are connected to the WiFi network in the building.\n",
    "\n",
    "- `sparsity`: This is the ratio of `zero_elements` to `total_elements`. It represents the proportion of time points where no devices were connected to the WiFi network in a particular building.\n",
    "\n",
    "So, if you see a sparsity of 0.5 for a building, it means that there were no devices connected to the WiFi network in that building for 50% of the time points in the dataset. If the sparsity is close to 0, it means that there were almost always devices connected to the WiFi network in that building. If the sparsity is close to 1, it means that there were rarely any devices connected to the WiFi network in that building.\n",
    "\n",
    "My thought was that this might be useful for understanding patterns of WiFi usage in different buildings. For example, a building with a high sparsity might not be used often, or it might have a WiFi network that people rarely connect to. On the other hand, a building with a low sparsity is likely to be in use frequently, with many devices connected to its WiFi network most of the time. This could be helpful once the data stream is converted into a different form.\n",
    "\n",
    "---\n",
    "\n",
    "## Plotting Sparsity"
   ]
  },
  {
   "cell_type": "code",
   "execution_count": null,
   "metadata": {},
   "outputs": [],
   "source": [
    "from src.python.data_plotter.sparsity_plotter import DataProcessor, DataPlotter\n",
    "\n",
    "from datetime import datetime\n",
    "from src.python.processor.data_processor import (\n",
    "    DataReader,\n",
    "    SparsityCalculator,\n",
    "    BuildingProcessor,\n",
    ")\n",
    "\n",
    "start_date = datetime(2019, 9, 1)\n",
    "end_date = datetime(2020, 3, 10)\n",
    "\n",
    "data_reader = DataReader(start_date=start_date, end_date=end_date)\n",
    "\n",
    "\n",
    "sparsity_calculator = SparsityCalculator()\n",
    "processor = BuildingProcessor(data_reader, sparsity_check=True)\n",
    "data_processor = DataProcessor(processor)\n",
    "data = data_processor.load_data()\n",
    "\n",
    "buildings, prepared_data = data_processor.prepare_data()"
   ]
  },
  {
   "cell_type": "code",
   "execution_count": null,
   "metadata": {},
   "outputs": [],
   "source": [
    "plotter = DataPlotter(data_processor)\n",
    "plotter.plot_sparsity(buildings, prepared_data, data_processor.data)\n",
    "\n",
    "plotter.plot_sparsity_bar_chart(\n",
    "    width=0.75,\n",
    "    colors={\"Sum\": \"red\"},\n",
    "    show_plot=True,\n",
    "    output_dir=\"./data/output/building-plots/all-buildings\",\n",
    ")"
   ]
  },
  {
   "cell_type": "markdown",
   "metadata": {},
   "source": [
    "The result above is a measure of how many the samples in each building's dataset is zero. A high sparsity score would indicate that there are many time points where no devices were connected to the WiFi network in a particular building."
   ]
  },
  {
   "cell_type": "code",
   "execution_count": null,
   "metadata": {},
   "outputs": [],
   "source": [
    "import matplotlib.pyplot as plt\n",
    "import pandas as pd\n",
    "import matplotlib.dates as mdates\n",
    "\n",
    "start_date = datetime(2019, 9, 1)\n",
    "end_date = datetime(2019, 9, 7)\n",
    "data_reader = DataReader(start_date=start_date, end_date=end_date)\n",
    "\n",
    "processor = BuildingProcessor(data_reader)\n",
    "network_data = processor.process_all_buildings()\n",
    "\n",
    "\n",
    "def plot_device_counts(\n",
    "    data,\n",
    "    time_period=\"M\",\n",
    "    color=\"steelblue\",\n",
    "    error_color=\"black\",\n",
    "    title=\"Device Count Over Time\",\n",
    "    ylabel=\"Device Count\",\n",
    "):\n",
    "    data[\"datetime\"] = pd.to_datetime(data[\"datetime\"])\n",
    "    device_counts = data.resample(time_period, on=\"datetime\")[\"devicecount\"].nunique()\n",
    "    device_counts.index = device_counts.index + pd.offsets.MonthBegin(1)\n",
    "    device_counts_std = (\n",
    "        data.groupby(data[\"datetime\"].dt.to_period(time_period))[\"devicecount\"]\n",
    "        .nunique()\n",
    "        .std()\n",
    "    )\n",
    "\n",
    "    fig, ax = plt.subplots(figsize=(18, 12))\n",
    "    device_counts.plot(\n",
    "        kind=\"bar\",\n",
    "        width=0.8,\n",
    "        color=color,\n",
    "        yerr=device_counts_std,\n",
    "        capsize=4,\n",
    "        error_kw={\"ecolor\": error_color, \"linewidth\": 2},\n",
    "        ax=ax,\n",
    "    )\n",
    "    ax.set_title(title, fontsize=16)\n",
    "    ax.set_xlabel(\"Time\", fontsize=14)\n",
    "    ax.set_ylabel(ylabel, fontsize=14)\n",
    "    ax.grid(axis=\"y\", linestyle=\"--\")\n",
    "    plt.tight_layout()\n",
    "    plt.show()\n",
    "\n",
    "\n",
    "def plot_min_max_device_counts(\n",
    "    data,\n",
    "    time_period=\"M\",\n",
    "    min_color=\"skyblue\",\n",
    "    max_color=\"steelblue\",\n",
    "    title=\"Min and Max Device Count Over Time\",\n",
    "    ylabel=\"Device Count\",\n",
    "):\n",
    "    min_device_counts = data.resample(time_period, on=\"datetime\")[\"devicecount\"].min()\n",
    "    max_device_counts = data.resample(time_period, on=\"datetime\")[\"devicecount\"].max()\n",
    "    device_counts = pd.DataFrame({\"Min\": min_device_counts, \"Max\": max_device_counts})\n",
    "    fig, ax = plt.subplots(figsize=(18, 12))\n",
    "    device_counts.plot(kind=\"bar\", width=0.8, color=[min_color, max_color], ax=ax)\n",
    "    ax.set_title(title, fontsize=16)\n",
    "    ax.set_xlabel(\"Time\", fontsize=14)\n",
    "    ax.set_ylabel(ylabel, fontsize=14)\n",
    "    ax.grid(axis=\"y\", linestyle=\"--\")\n",
    "    ax.legend([\"Min\", \"Max\"])\n",
    "    plt.tight_layout()\n",
    "    plt.show()"
   ]
  },
  {
   "cell_type": "markdown",
   "metadata": {},
   "source": [
    "# Bar Chart for Campus Data\n",
    "\n",
    "---\n",
    "\n",
    "Copyright 2024 Tyler A Reiser\n",
    "\n",
    "---"
   ]
  },
  {
   "cell_type": "code",
   "execution_count": null,
   "metadata": {},
   "outputs": [],
   "source": [
    "processor = BuildingProcessor(data_reader)\n",
    "network_data = processor.process_all_buildings()\n",
    "\n",
    "\n",
    "def plot_device_counts(\n",
    "    data,\n",
    "    time_period=\"M\",\n",
    "    color=\"steelblue\",\n",
    "    error_color=\"black\",\n",
    "    title=\"Device Count Over Time\",\n",
    "    ylabel=\"Device Count\",\n",
    "):\n",
    "    data[\"datetime\"] = pd.to_datetime(data[\"datetime\"])\n",
    "    device_counts = data.resample(time_period, on=\"datetime\")[\"devicecount\"].nunique()\n",
    "    device_counts.index = device_counts.index + pd.offsets.MonthBegin(1)\n",
    "    device_counts_std = (\n",
    "        data.groupby(data[\"datetime\"].dt.to_period(time_period))[\"devicecount\"]\n",
    "        .nunique()\n",
    "        .std()\n",
    "    )\n",
    "\n",
    "    fig, ax = plt.subplots(figsize=(18, 12))\n",
    "    device_counts.plot(\n",
    "        kind=\"bar\",\n",
    "        width=0.8,\n",
    "        color=color,\n",
    "        yerr=device_counts_std,\n",
    "        capsize=4,\n",
    "        error_kw={\"ecolor\": error_color, \"linewidth\": 2},\n",
    "        ax=ax,\n",
    "    )\n",
    "    ax.set_title(title, fontsize=16)\n",
    "    ax.set_xlabel(\"Time\", fontsize=14)\n",
    "    ax.set_ylabel(ylabel, fontsize=14)\n",
    "    ax.grid(axis=\"y\", linestyle=\"--\")\n",
    "    plt.tight_layout()\n",
    "    plt.show()\n",
    "\n",
    "\n",
    "def plot_min_max_device_counts(\n",
    "    data,\n",
    "    time_period=\"M\",\n",
    "    min_color=\"skyblue\",\n",
    "    max_color=\"steelblue\",\n",
    "    title=\"Min and Max Device Count Over Time\",\n",
    "    ylabel=\"Device Count\",\n",
    "):\n",
    "    min_device_counts = data.resample(time_period, on=\"datetime\")[\"devicecount\"].min()\n",
    "    max_device_counts = data.resample(time_period, on=\"datetime\")[\"devicecount\"].max()\n",
    "    device_counts = pd.DataFrame({\"Min\": min_device_counts, \"Max\": max_device_counts})\n",
    "    fig, ax = plt.subplots(figsize=(18, 12))\n",
    "    device_counts.plot(kind=\"bar\", width=0.8, color=[min_color, max_color], ax=ax)\n",
    "    ax.set_title(title, fontsize=16)\n",
    "    ax.set_xlabel(\"Time\", fontsize=14)\n",
    "    ax.set_ylabel(ylabel, fontsize=14)\n",
    "    ax.grid(axis=\"y\", linestyle=\"--\")\n",
    "    ax.legend([\"Min\", \"Max\"])\n",
    "    plt.tight_layout()\n",
    "    plt.show()\n",
    "\n",
    "\n",
    "data = network_data[\"Campus\"]\n",
    "\n",
    "plot_device_counts(data)\n",
    "\n",
    "plot_min_max_device_counts(data)"
   ]
  },
  {
   "cell_type": "markdown",
   "metadata": {},
   "source": [
    "## Bar Chart for one Building"
   ]
  },
  {
   "cell_type": "code",
   "execution_count": null,
   "metadata": {},
   "outputs": [],
   "source": [
    "data = network_data[\"Sum\"][\"ADEN\"]\n",
    "\n",
    "plot_device_counts(data)\n",
    "\n",
    "plot_min_max_device_counts(data)"
   ]
  },
  {
   "cell_type": "markdown",
   "metadata": {},
   "source": [
    "COPYRIGHT 2024 Tyler A Reiser."
   ]
  }
 ],
 "metadata": {
  "kernelspec": {
   "display_name": "Python 3",
   "language": "python",
   "name": "python3"
  },
  "language_info": {
   "codemirror_mode": {
    "name": "ipython",
    "version": 3
   },
   "file_extension": ".py",
   "mimetype": "text/x-python",
   "name": "python",
   "nbconvert_exporter": "python",
   "pygments_lexer": "ipython3",
   "version": "3.10.2"
  },
  "orig_nbformat": 4
 },
 "nbformat": 4,
 "nbformat_minor": 2
}
